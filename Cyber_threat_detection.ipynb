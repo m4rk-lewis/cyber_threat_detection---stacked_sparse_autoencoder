{
  "nbformat": 4,
  "nbformat_minor": 0,
  "metadata": {
    "colab": {
      "provenance": [],
      "collapsed_sections": [
        "wnYMRKqyDa4b",
        "FhJIvrFKB1pS",
        "ggkxjAEOE2ww",
        "uFdiMxM5EmFB",
        "kYHw3LXxL--5",
        "H1cbe05EYN6R",
        "-cDPN3ii5zNW",
        "qS3S8MYpNTJA",
        "WdxwGkD0G-Ze",
        "PRQvQKTfyDGD",
        "z4tIppnUipO3",
        "f9y__-eTmdBm",
        "ATvy9lHihzFg",
        "yBpm6VTjkZcV",
        "v2refSgqoFtG",
        "C8MER06PBago",
        "IAPz7EABcTkf",
        "s3dtjPuXxjh-",
        "UECxhIwp04D6",
        "GB1zK1pnT20B",
        "XDj5AorGG6lq",
        "0rKCeWqE94vy",
        "v6X_zOZuuh69",
        "Qh2EQ6Fo8VMq",
        "-OlaTjbqiMdH",
        "2iarAcg8CLIv"
      ]
    },
    "kernelspec": {
      "name": "python3",
      "display_name": "Python 3"
    },
    "language_info": {
      "name": "python"
    }
  },
  "cells": [
    {
      "cell_type": "markdown",
      "source": [
        "# Mark Lewis - Cyber threat detection using feature engineering, feature selection and optimised classification"
      ],
      "metadata": {
        "id": "JeflpjdTf-c8"
      }
    },
    {
      "cell_type": "markdown",
      "source": [
        "# 1) Download and Install **libraries**"
      ],
      "metadata": {
        "id": "wnYMRKqyDa4b"
      }
    },
    {
      "cell_type": "code",
      "source": [
        "try:\n",
        "  # Import General Use libraries\n",
        "  !pip install phate scikit-optimize umap-learn\n",
        "except:\n",
        "  pass\n",
        "\n",
        "import sys\n",
        "import matplotlib.pyplot as plt\n",
        "import numpy as np\n",
        "import pandas as pd\n",
        "import seaborn as sns\n",
        "from pandas import read_csv\n",
        "from pandas import set_option\n",
        "\n",
        "\n",
        "import warnings\n",
        "warnings.filterwarnings('ignore')\n",
        "\n",
        "import tensorflow as tf\n",
        "print('Python version : ', sys.version)\n",
        "print('TensorFlow version : ', tf.__version__)\n",
        "\n",
        "gpus = tf.config.experimental.list_physical_devices('GPU')\n",
        "print('GPU: ',gpus)\n",
        "\n",
        "seed = 1\n",
        "np.random.seed(seed)"
      ],
      "metadata": {
        "id": "wA0BYMloDaUH",
        "colab": {
          "base_uri": "https://localhost:8080/"
        },
        "outputId": "c0f7e0d3-530f-45c2-c1f0-17983d33bb45"
      },
      "execution_count": null,
      "outputs": [
        {
          "output_type": "stream",
          "name": "stdout",
          "text": [
            "Collecting phate\n",
            "  Downloading phate-1.0.7-py3-none-any.whl (23 kB)\n",
            "Collecting scikit-optimize\n",
            "  Downloading scikit_optimize-0.9.0-py2.py3-none-any.whl (100 kB)\n",
            "\u001b[K     |████████████████████████████████| 100 kB 4.3 MB/s \n",
            "\u001b[?25hCollecting umap-learn\n",
            "  Downloading umap-learn-0.5.2.tar.gz (86 kB)\n",
            "\u001b[K     |████████████████████████████████| 86 kB 4.7 MB/s \n",
            "\u001b[?25hCollecting Deprecated\n",
            "  Downloading Deprecated-1.2.13-py2.py3-none-any.whl (9.6 kB)\n",
            "Requirement already satisfied: numpy>=1.16.0 in /usr/local/lib/python3.7/dist-packages (from phate) (1.19.5)\n",
            "Collecting s-gd2>=1.5\n",
            "  Downloading s_gd2-1.8-cp37-cp37m-manylinux2010_x86_64.whl (416 kB)\n",
            "\u001b[K     |████████████████████████████████| 416 kB 39.3 MB/s \n",
            "\u001b[?25hRequirement already satisfied: scikit-learn>=0.20.0 in /usr/local/lib/python3.7/dist-packages (from phate) (1.0.2)\n",
            "Collecting graphtools>=1.3.1\n",
            "  Downloading graphtools-1.5.2-py3-none-any.whl (45 kB)\n",
            "\u001b[K     |████████████████████████████████| 45 kB 2.9 MB/s \n",
            "\u001b[?25hCollecting scprep>=0.11.1\n",
            "  Downloading scprep-1.1.0-py3-none-any.whl (104 kB)\n",
            "\u001b[K     |████████████████████████████████| 104 kB 54.1 MB/s \n",
            "\u001b[?25hRequirement already satisfied: scipy>=1.1.0 in /usr/local/lib/python3.7/dist-packages (from phate) (1.4.1)\n",
            "Requirement already satisfied: future in /usr/local/lib/python3.7/dist-packages (from phate) (0.16.0)\n",
            "Requirement already satisfied: matplotlib>=3.0 in /usr/local/lib/python3.7/dist-packages (from phate) (3.2.2)\n",
            "Collecting tasklogger>=1.0\n",
            "  Downloading tasklogger-1.1.0-py3-none-any.whl (15 kB)\n",
            "Collecting pygsp>=0.5.1\n",
            "  Downloading PyGSP-0.5.1-py2.py3-none-any.whl (1.8 MB)\n",
            "\u001b[K     |████████████████████████████████| 1.8 MB 50.4 MB/s \n",
            "\u001b[?25hRequirement already satisfied: cycler>=0.10 in /usr/local/lib/python3.7/dist-packages (from matplotlib>=3.0->phate) (0.11.0)\n",
            "Requirement already satisfied: pyparsing!=2.0.4,!=2.1.2,!=2.1.6,>=2.0.1 in /usr/local/lib/python3.7/dist-packages (from matplotlib>=3.0->phate) (3.0.6)\n",
            "Requirement already satisfied: kiwisolver>=1.0.1 in /usr/local/lib/python3.7/dist-packages (from matplotlib>=3.0->phate) (1.3.2)\n",
            "Requirement already satisfied: python-dateutil>=2.1 in /usr/local/lib/python3.7/dist-packages (from matplotlib>=3.0->phate) (2.8.2)\n",
            "Requirement already satisfied: six>=1.5 in /usr/local/lib/python3.7/dist-packages (from python-dateutil>=2.1->matplotlib>=3.0->phate) (1.15.0)\n",
            "Requirement already satisfied: threadpoolctl>=2.0.0 in /usr/local/lib/python3.7/dist-packages (from scikit-learn>=0.20.0->phate) (3.0.0)\n",
            "Requirement already satisfied: joblib>=0.11 in /usr/local/lib/python3.7/dist-packages (from scikit-learn>=0.20.0->phate) (1.1.0)\n",
            "Requirement already satisfied: pandas>=0.25 in /usr/local/lib/python3.7/dist-packages (from scprep>=0.11.1->phate) (1.1.5)\n",
            "Requirement already satisfied: decorator>=4.3.0 in /usr/local/lib/python3.7/dist-packages (from scprep>=0.11.1->phate) (4.4.2)\n",
            "Requirement already satisfied: packaging in /usr/local/lib/python3.7/dist-packages (from scprep>=0.11.1->phate) (21.3)\n",
            "Requirement already satisfied: pytz>=2017.2 in /usr/local/lib/python3.7/dist-packages (from pandas>=0.25->scprep>=0.11.1->phate) (2018.9)\n",
            "Collecting pyaml>=16.9\n",
            "  Downloading pyaml-21.10.1-py2.py3-none-any.whl (24 kB)\n",
            "Requirement already satisfied: PyYAML in /usr/local/lib/python3.7/dist-packages (from pyaml>=16.9->scikit-optimize) (3.13)\n",
            "Requirement already satisfied: numba>=0.49 in /usr/local/lib/python3.7/dist-packages (from umap-learn) (0.51.2)\n",
            "Collecting pynndescent>=0.5\n",
            "  Downloading pynndescent-0.5.5.tar.gz (1.1 MB)\n",
            "\u001b[K     |████████████████████████████████| 1.1 MB 53.7 MB/s \n",
            "\u001b[?25hRequirement already satisfied: tqdm in /usr/local/lib/python3.7/dist-packages (from umap-learn) (4.62.3)\n",
            "Requirement already satisfied: llvmlite<0.35,>=0.34.0.dev0 in /usr/local/lib/python3.7/dist-packages (from numba>=0.49->umap-learn) (0.34.0)\n",
            "Requirement already satisfied: setuptools in /usr/local/lib/python3.7/dist-packages (from numba>=0.49->umap-learn) (57.4.0)\n",
            "Requirement already satisfied: wrapt<2,>=1.10 in /usr/local/lib/python3.7/dist-packages (from Deprecated->phate) (1.13.3)\n",
            "Building wheels for collected packages: umap-learn, pynndescent\n",
            "  Building wheel for umap-learn (setup.py) ... \u001b[?25l\u001b[?25hdone\n",
            "  Created wheel for umap-learn: filename=umap_learn-0.5.2-py3-none-any.whl size=82708 sha256=bffbf32e022c0a8f3e000f240fb3f38dbc30e8ca6175ecbe18b8b7ad95c95a5c\n",
            "  Stored in directory: /root/.cache/pip/wheels/84/1b/c6/aaf68a748122632967cef4dffef68224eb16798b6793257d82\n",
            "  Building wheel for pynndescent (setup.py) ... \u001b[?25l\u001b[?25hdone\n",
            "  Created wheel for pynndescent: filename=pynndescent-0.5.5-py3-none-any.whl size=52603 sha256=1f1be32456fdd449b310e9836f41b9842b5916ae5a6ca60ca7ee56c82960d769\n",
            "  Stored in directory: /root/.cache/pip/wheels/af/e9/33/04db1436df0757c42fda8ea6796d7a8586e23c85fac355f476\n",
            "Successfully built umap-learn pynndescent\n",
            "Installing collected packages: Deprecated, tasklogger, pygsp, scprep, s-gd2, pynndescent, pyaml, graphtools, umap-learn, scikit-optimize, phate\n",
            "Successfully installed Deprecated-1.2.13 graphtools-1.5.2 phate-1.0.7 pyaml-21.10.1 pygsp-0.5.1 pynndescent-0.5.5 s-gd2-1.8 scikit-optimize-0.9.0 scprep-1.1.0 tasklogger-1.1.0 umap-learn-0.5.2\n",
            "Python version :  3.7.12 (default, Sep 10 2021, 00:21:48) \n",
            "[GCC 7.5.0]\n",
            "TensorFlow version :  2.7.0\n",
            "GPU:  []\n"
          ]
        }
      ]
    },
    {
      "cell_type": "markdown",
      "source": [
        "# 2) Mount **Google Drive**"
      ],
      "metadata": {
        "id": "FhJIvrFKB1pS"
      }
    },
    {
      "cell_type": "code",
      "source": [
        "# mount the google drive\n",
        "from google.colab import drive\n",
        "drive.mount('/content/drive')"
      ],
      "metadata": {
        "colab": {
          "base_uri": "https://localhost:8080/"
        },
        "id": "CIOWoXV4CG-B",
        "outputId": "a6e12810-6b3b-4897-c848-f75131346c83"
      },
      "execution_count": null,
      "outputs": [
        {
          "output_type": "stream",
          "name": "stdout",
          "text": [
            "Mounted at /content/drive\n"
          ]
        }
      ]
    },
    {
      "cell_type": "markdown",
      "source": [
        "# 3) **Load Data** From CSV and Rename Class Variable"
      ],
      "metadata": {
        "id": "ggkxjAEOE2ww"
      }
    },
    {
      "cell_type": "code",
      "source": [
        "# # Load CSV using Pandas\n",
        "# np.random.seed(None)\n",
        "\n",
        "# SET PANDAS DISPLAY OPTIONS\n",
        "pd.reset_option(\"max_rows\")\n",
        "pd.reset_option(\"max_columns\")\n",
        "pd.reset_option('precision')\n",
        "\n",
        "\n",
        "# Get the training set --------------\n",
        "x_train = pd.read_csv('/content/drive/MyDrive/AML_CW/train_imperson_without4n7_balanced_data.csv',delimiter=',')\n",
        "x_train.rename(columns={'155': 'class'}, inplace = True)\n",
        "print(x_train.head())\n",
        "\n",
        "\n",
        "# Get the test set --------------\n",
        "x_test = pd.read_csv('/content/drive/MyDrive/AML_CW/test_imperson_without4n7_balanced_data.csv',delimiter=',')\n",
        "x_test.rename(columns={'155': 'class'}, inplace = True)\n",
        "print(x_test.head())"
      ],
      "metadata": {
        "colab": {
          "base_uri": "https://localhost:8080/"
        },
        "id": "14Zh96S1CKEZ",
        "outputId": "92447d5e-b45f-4e17-8990-5eeb184bb33f"
      },
      "execution_count": null,
      "outputs": [
        {
          "output_type": "stream",
          "name": "stdout",
          "text": [
            "   1  2  3         5         6         8  ...  150  151  152  153  154  class\n",
            "0  0  0  0  0.000066  0.000066  0.009150  ...    0    0    0    0  0.0      0\n",
            "1  0  0  0  0.000014  0.000014  0.000000  ...    0    0    0    0  0.0      0\n",
            "2  0  0  0  0.035528  0.035528  0.070588  ...    0    0    0    0  0.0      0\n",
            "3  0  0  0  0.005128  0.005128  0.094771  ...    0    0    0    0  0.0      0\n",
            "4  0  0  0  0.035116  0.035116  0.070588  ...    0    0    0    0  0.0      0\n",
            "\n",
            "[5 rows x 153 columns]\n",
            "   1  2  3         5         6        8  ...  150  151  152  153      154  class\n",
            "0  0  0  0  0.002547  0.002547  0.98824  ...    0    0    0    0  0.98674      0\n",
            "1  0  0  0  0.003296  0.003296  0.98824  ...    0    0    0    0  0.98674      0\n",
            "2  0  0  0  0.003285  0.003285  0.98824  ...    0    0    0    0  0.98674      0\n",
            "3  0  0  0  0.005942  0.005942  0.00000  ...    0    0    0    0  0.00000      0\n",
            "4  0  0  0  0.001519  0.001519  0.98824  ...    0    0    0    0  0.98674      0\n",
            "\n",
            "[5 rows x 153 columns]\n"
          ]
        }
      ]
    },
    {
      "cell_type": "markdown",
      "source": [
        "# ------DATA EXPLORATION---------------------------------------------------------------------------------"
      ],
      "metadata": {
        "id": "XlsEz9K3v7N1"
      }
    },
    {
      "cell_type": "markdown",
      "source": [
        "# 4) Initial Data **Observations**"
      ],
      "metadata": {
        "id": "uFdiMxM5EmFB"
      }
    },
    {
      "cell_type": "code",
      "source": [
        "# pd.set_option('precision', 24)\n",
        "pd.set_option('display.max_columns', 155)\n",
        "pd.set_option('display.max_rows', 155)\n",
        "pd.set_option('display.width', 250)\n",
        "\n",
        "print(x_test.describe())\n",
        "\n",
        "# ReSET PANDAS DISPLAY OPTIONS\n",
        "pd.reset_option(\"max_rows\")\n",
        "pd.reset_option(\"max_columns\")\n",
        "pd.reset_option('precision')\n",
        "pd.reset_option('display.width')"
      ],
      "metadata": {
        "id": "qDJVmOo8LZ2x",
        "colab": {
          "base_uri": "https://localhost:8080/"
        },
        "outputId": "154692b9-0531-4cb2-ee1d-840b3e3a10e8"
      },
      "execution_count": null,
      "outputs": [
        {
          "output_type": "stream",
          "name": "stdout",
          "text": [
            "             1        2        3             5             6             8             9       10       11       12       13            14            15            16       17            18       19            20       21       22       23  \\\n",
            "count  40158.0  40158.0  40158.0  40158.000000  40158.000000  40158.000000  40158.000000  40158.0  40158.0  40158.0  40158.0  40158.000000  40158.000000  40158.000000  40158.0  40158.000000  40158.0  40158.000000  40158.0  40158.0  40158.0   \n",
            "mean       0.0      0.0      0.0      0.005080      0.005080      0.200639      0.200639      0.0      0.0      0.0      0.0      0.999701      0.999701      0.999701      1.0      0.999701      0.0      0.999701      0.0      0.0      0.0   \n",
            "std        0.0      0.0      0.0      0.016192      0.016192      0.371463      0.371463      0.0      0.0      0.0      0.0      0.017284      0.017284      0.017284      0.0      0.017284      0.0      0.017284      0.0      0.0      0.0   \n",
            "min        0.0      0.0      0.0      0.000006      0.000006      0.000000      0.000000      0.0      0.0      0.0      0.0      0.000000      0.000000      0.000000      1.0      0.000000      0.0      0.000000      0.0      0.0      0.0   \n",
            "25%        0.0      0.0      0.0      0.001362      0.001362      0.016993      0.016993      0.0      0.0      0.0      0.0      1.000000      1.000000      1.000000      1.0      1.000000      0.0      1.000000      0.0      0.0      0.0   \n",
            "50%        0.0      0.0      0.0      0.002262      0.002262      0.016993      0.016993      0.0      0.0      0.0      0.0      1.000000      1.000000      1.000000      1.0      1.000000      0.0      1.000000      0.0      0.0      0.0   \n",
            "75%        0.0      0.0      0.0      0.003163      0.003163      0.060131      0.060131      0.0      0.0      0.0      0.0      1.000000      1.000000      1.000000      1.0      1.000000      0.0      1.000000      0.0      0.0      0.0   \n",
            "max        0.0      0.0      0.0      0.904780      0.904780      1.000000      1.000000      0.0      0.0      0.0      0.0      1.000000      1.000000      1.000000      1.0      1.000000      0.0      1.000000      0.0      0.0      0.0   \n",
            "\n",
            "            24       25            26       27       28            29       30       31       32       33       34       35       36       37            38       39       40       41       42            43       44       45       46            47  \\\n",
            "count  40158.0  40158.0  40158.000000  40158.0  40158.0  40158.000000  40158.0  40158.0  40158.0  40158.0  40158.0  40158.0  40158.0  40158.0  40158.000000  40158.0  40158.0  40158.0  40158.0  40158.000000  40158.0  40158.0  40158.0  40158.000000   \n",
            "mean       0.0      0.0      0.999701      0.0      0.0      0.999701      0.0      0.0      0.0      0.0      0.0      0.0      0.0      0.0      0.944178      0.0      0.0      0.0      0.0      0.999701      0.0      0.0      0.0      0.268159   \n",
            "std        0.0      0.0      0.017284      0.0      0.0      0.017284      0.0      0.0      0.0      0.0      0.0      0.0      0.0      0.0      0.040206      0.0      0.0      0.0      0.0      0.017284      0.0      0.0      0.0      0.393767   \n",
            "min        0.0      0.0      0.000000      0.0      0.0      0.000000      0.0      0.0      0.0      0.0      0.0      0.0      0.0      0.0      0.000000      0.0      0.0      0.0      0.0      0.000000      0.0      0.0      0.0      0.000000   \n",
            "25%        0.0      0.0      1.000000      0.0      0.0      1.000000      0.0      0.0      0.0      0.0      0.0      0.0      0.0      0.0      0.905910      0.0      0.0      0.0      0.0      1.000000      0.0      0.0      0.0      0.000000   \n",
            "50%        0.0      0.0      1.000000      0.0      0.0      1.000000      0.0      0.0      0.0      0.0      0.0      0.0      0.0      0.0      0.967410      0.0      0.0      0.0      0.0      1.000000      0.0      0.0      0.0      0.000000   \n",
            "75%        0.0      0.0      1.000000      0.0      0.0      1.000000      0.0      0.0      0.0      0.0      0.0      0.0      0.0      0.0      0.975510      0.0      0.0      0.0      0.0      1.000000      0.0      0.0      0.0      0.433960   \n",
            "max        0.0      0.0      1.000000      0.0      0.0      1.000000      0.0      0.0      0.0      0.0      0.0      0.0      0.0      0.0      0.978310      0.0      0.0      0.0      0.0      1.000000      0.0      0.0      0.0      1.000000   \n",
            "\n",
            "                 48       49            50            51            52       53       54       55       56       57       58       59       60            61            62       63           64       65            66            67            68  \\\n",
            "count  40158.000000  40158.0  40158.000000  40158.000000  40158.000000  40158.0  40158.0  40158.0  40158.0  40158.0  40158.0  40158.0  40158.0  40158.000000  40158.000000  40158.0  40158.00000  40158.0  40158.000000  40158.000000  40158.000000   \n",
            "mean       0.980789      0.0      0.641516      0.358185      0.999701      0.0      0.0      0.0      0.0      0.0      0.0      0.0      0.0      0.665557      0.999701      0.0      0.70478      0.0      0.830221      0.341793      0.726356   \n",
            "std        0.016959      0.0      0.479561      0.479473      0.017284      0.0      0.0      0.0      0.0      0.0      0.0      0.0      0.0      0.093493      0.017284      0.0      0.19296      0.0      0.322244      0.385898      0.428895   \n",
            "min        0.000000      0.0      0.000000      0.000000      0.000000      0.0      0.0      0.0      0.0      0.0      0.0      0.0      0.0      0.089744      0.000000      0.0      0.00000      0.0      0.000000      0.000000      0.000000   \n",
            "25%        0.981080      0.0      0.000000      0.000000      1.000000      0.0      0.0      0.0      0.0      0.0      0.0      0.0      0.0      0.679490      1.000000      0.0      0.72727      0.0      1.000000      0.000000      0.500000   \n",
            "50%        0.981080      0.0      1.000000      0.000000      1.000000      0.0      0.0      0.0      0.0      0.0      0.0      0.0      0.0      0.692310      1.000000      0.0      0.72727      0.0      1.000000      0.000000      1.000000   \n",
            "75%        0.981080      0.0      1.000000      1.000000      1.000000      0.0      0.0      0.0      0.0      0.0      0.0      0.0      0.0      0.705130      1.000000      0.0      0.72727      0.0      1.000000      0.615380      1.000000   \n",
            "max        0.993160      0.0      1.000000      1.000000      1.000000      0.0      0.0      0.0      0.0      0.0      0.0      0.0      0.0      1.000000      1.000000      0.0      1.00000      0.0      1.000000      1.000000      1.000000   \n",
            "\n",
            "                 69            70           71            72            73       74            75            76            77            78            79            80            81            82       83       84       85       86       87  \\\n",
            "count  40158.000000  40158.000000  40158.00000  40158.000000  40158.000000  40158.0  40158.000000  40158.000000  40158.000000  40158.000000  40158.000000  40158.000000  40158.000000  40158.000000  40158.0  40158.0  40158.0  40158.0  40158.0   \n",
            "mean       0.463320      0.034862      0.00249      0.003486      0.750336      0.0      0.011198      0.021087      0.001884      0.003357      0.242841      0.002740      0.042274      0.317760      0.0      0.0      0.0      0.0      0.0   \n",
            "std        0.498659      0.183433      0.04984      0.058942      0.432824      0.0      0.010695      0.037241      0.029861      0.007230      0.319217      0.002684      0.068034      0.235409      0.0      0.0      0.0      0.0      0.0   \n",
            "min        0.000000      0.000000      0.00000      0.000000      0.000000      0.0      0.000000      0.000000      0.000000      0.000000      0.000000      0.000000      0.000000      0.000000      0.0      0.0      0.0      0.0      0.0   \n",
            "25%        0.000000      0.000000      0.00000      0.000000      1.000000      0.0      0.000000      0.005291      0.000343      0.002146      0.000128      0.002410      0.000000      0.175340      0.0      0.0      0.0      0.0      0.0   \n",
            "50%        0.000000      0.000000      0.00000      0.000000      1.000000      0.0      0.003310      0.005291      0.000343      0.002146      0.002173      0.002410      0.000000      0.315750      0.0      0.0      0.0      0.0      0.0   \n",
            "75%        1.000000      0.000000      0.00000      0.000000      1.000000      0.0      0.021655      0.026455      0.001028      0.002146      0.483028      0.002410      0.090909      0.315750      0.0      0.0      0.0      0.0      0.0   \n",
            "max        1.000000      1.000000      1.00000      1.000000      1.000000      0.0      0.689660      0.835980      0.992120      0.963520      0.998080      0.040964      0.272730      1.000000      0.0      0.0      0.0      0.0      0.0   \n",
            "\n",
            "            88            89            90       91       92            93            94       95       96       97            98       99      100      101      102      103           104           105           106           107           108  \\\n",
            "count  40158.0  40158.000000  40158.000000  40158.0  40158.0  40158.000000  40158.000000  40158.0  40158.0  40158.0  40158.000000  40158.0  40158.0  40158.0  40158.0  40158.0  40158.000000  40158.000000  40158.000000  40158.000000  40158.000000   \n",
            "mean       0.0      0.999701      0.092385      0.0      0.0      0.081603      0.029135      0.0      0.0      0.0      0.090941      0.0      0.0      0.0      0.0      0.0      0.000005      0.000012      0.000022      0.002997      0.092236   \n",
            "std        0.0      0.017284      0.289572      0.0      0.0      0.273762      0.168187      0.0      0.0      0.0      0.287528      0.0      0.0      0.0      0.0      0.0      0.000707      0.002495      0.004325      0.019639      0.289362   \n",
            "min        0.0      0.000000      0.000000      0.0      0.0      0.000000      0.000000      0.0      0.0      0.0      0.000000      0.0      0.0      0.0      0.0      0.0      0.000000      0.000000      0.000000      0.000000      0.000000   \n",
            "25%        0.0      1.000000      0.000000      0.0      0.0      0.000000      0.000000      0.0      0.0      0.0      0.000000      0.0      0.0      0.0      0.0      0.0      0.000000      0.000000      0.000000      0.000000      0.000000   \n",
            "50%        0.0      1.000000      0.000000      0.0      0.0      0.000000      0.000000      0.0      0.0      0.0      0.000000      0.0      0.0      0.0      0.0      0.0      0.000000      0.000000      0.000000      0.000000      0.000000   \n",
            "75%        0.0      1.000000      0.000000      0.0      0.0      0.000000      0.000000      0.0      0.0      0.0      0.000000      0.0      0.0      0.0      0.0      0.0      0.000000      0.000000      0.000000      0.000000      0.000000   \n",
            "max        0.0      1.000000      1.000000      0.0      0.0      1.000000      1.000000      0.0      0.0      0.0      1.000000      0.0      0.0      0.0      0.0      0.0      0.100000      0.500000      0.866670      0.201130      1.000000   \n",
            "\n",
            "                109           110           111           112      113      114      115      116      117           118           119           120           121           122           123      124           125           126         127  \\\n",
            "count  40158.000000  40158.000000  40158.000000  40158.000000  40158.0  40158.0  40158.0  40158.0  40158.0  40158.000000  40158.000000  40158.000000  40158.000000  40158.000000  40158.000000  40158.0  40158.000000  40158.000000  40158.0000   \n",
            "mean       0.000033      0.000068      0.000224      0.000218      0.0      0.0      0.0      0.0      0.0      0.095224      0.001407      0.043572      0.003598      0.020311      0.001295      0.0      0.004051      0.031401      0.0157   \n",
            "std        0.004555      0.006776      0.014969      0.012285      0.0      0.0      0.0      0.0      0.0      0.293528      0.005267      0.135315      0.042264      0.095872      0.035962      0.0      0.060856      0.174401      0.0872   \n",
            "min        0.000000      0.000000      0.000000      0.000000      0.0      0.0      0.0      0.0      0.0      0.000000      0.000000      0.000000      0.000000      0.000000      0.000000      0.0      0.000000      0.000000      0.0000   \n",
            "25%        0.000000      0.000000      0.000000      0.000000      0.0      0.0      0.0      0.0      0.0      0.000000      0.000000      0.000000      0.000000      0.000000      0.000000      0.0      0.000000      0.000000      0.0000   \n",
            "50%        0.000000      0.000000      0.000000      0.000000      0.0      0.0      0.0      0.0      0.0      0.000000      0.000000      0.000000      0.000000      0.000000      0.000000      0.0      0.000000      0.000000      0.0000   \n",
            "75%        0.000000      0.000000      0.000000      0.000000      0.0      0.0      0.0      0.0      0.0      0.000000      0.000000      0.000000      0.000000      0.000000      0.000000      0.0      0.000000      0.000000      0.0000   \n",
            "max        0.833330      0.750000      1.000000      1.000000      0.0      0.0      0.0      0.0      0.0      1.000000      0.161700      0.923080      0.500000      0.666670      1.000000      0.0      1.000000      1.000000      0.5000   \n",
            "\n",
            "                128           129           130      131      132      133      134      135      136      137      138      139           140           141           142           143           144           145           146      147  \\\n",
            "count  40158.000000  40158.000000  40158.000000  40158.0  40158.0  40158.0  40158.0  40158.0  40158.0  40158.0  40158.0  40158.0  40158.000000  40158.000000  40158.000000  40158.000000  40158.000000  40158.000000  40158.000000  40158.0   \n",
            "mean       0.029645      0.031401      0.031401      0.0      0.0      0.0      0.0      0.0      0.0      0.0      0.0      0.0      0.121952      0.045437      0.196159      0.009149      0.004506      0.028011      0.028011      0.0   \n",
            "std        0.167001      0.174401      0.174401      0.0      0.0      0.0      0.0      0.0      0.0      0.0      0.0      0.0      0.249692      0.114639      0.310213      0.077263      0.032955      0.062511      0.062511      0.0   \n",
            "min        0.000000      0.000000      0.000000      0.0      0.0      0.0      0.0      0.0      0.0      0.0      0.0      0.0      0.000000      0.000000      0.000000      0.000000      0.000000      0.000000      0.000000      0.0   \n",
            "25%        0.000000      0.000000      0.000000      0.0      0.0      0.0      0.0      0.0      0.0      0.0      0.0      0.0      0.000000      0.000000      0.000000      0.000000      0.000000      0.000000      0.000000      0.0   \n",
            "50%        0.000000      0.000000      0.000000      0.0      0.0      0.0      0.0      0.0      0.0      0.0      0.0      0.0      0.000000      0.000000      0.000000      0.000000      0.000000      0.000000      0.000000      0.0   \n",
            "75%        0.000000      0.000000      0.000000      0.0      0.0      0.0      0.0      0.0      0.0      0.0      0.0      0.0      0.028013      0.000000      0.369887      0.000000      0.000000      0.000000      0.000000      0.0   \n",
            "max        1.000000      1.000000      1.000000      0.0      0.0      0.0      0.0      0.0      0.0      0.0      0.0      0.0      0.999860      1.000000      0.999980      0.975940      0.390870      1.000000      1.000000      0.0   \n",
            "\n",
            "                148      149      150      151      152      153           154         class  \n",
            "count  40158.000000  40158.0  40158.0  40158.0  40158.0  40158.0  40158.000000  40158.000000  \n",
            "mean       0.000025      0.0      0.0      0.0      0.0      0.0      0.185022      0.500000  \n",
            "std        0.004990      0.0      0.0      0.0      0.0      0.0      0.377552      0.500006  \n",
            "min        0.000000      0.0      0.0      0.0      0.0      0.0      0.000000      0.000000  \n",
            "25%        0.000000      0.0      0.0      0.0      0.0      0.0      0.002652      0.000000  \n",
            "50%        0.000000      0.0      0.0      0.0      0.0      0.0      0.002652      0.500000  \n",
            "75%        0.000000      0.0      0.0      0.0      0.0      0.0      0.039788      1.000000  \n",
            "max        1.000000      0.0      0.0      0.0      0.0      0.0      1.000000      1.000000  \n"
          ]
        }
      ]
    },
    {
      "cell_type": "code",
      "source": [
        "from matplotlib import pyplot\n",
        "x_train.plot(kind='box', subplots=True, layout=(9,17), sharex=False, sharey=False, figsize = (50,25))\n",
        "pyplot.show()"
      ],
      "metadata": {
        "id": "1nUjmuaBEreA",
        "colab": {
          "base_uri": "https://localhost:8080/",
          "height": 479
        },
        "outputId": "098b6486-0054-47ca-bf72-fc9cc7f4d972"
      },
      "execution_count": null,
      "outputs": [
        {
          "output_type": "display_data",
          "data": {
            "image/png": "[encoded data removed]",
            "text/plain": [
              "<Figure size 3600x1800 with 153 Axes>"
            ]
          },
          "metadata": {
            "needs_background": "light"
          }
        }
      ]
    },
    {
      "cell_type": "code",
      "source": [
        "# find correllation between features\n",
        "\n",
        "# create correlation mmatrix\n",
        "correlations = x_train.corr(method='pearson')\n",
        "\n",
        "# Select upper triangle of correlation matrix\n",
        "upper = correlations.where(np.triu(np.ones(correlations.shape), k=1).astype(np.bool))\n",
        "\n",
        "# Find features with correlation greater of 1\n",
        "corr_is_one = [column for column in upper.columns if any(upper[column] >= 1.0)]\n",
        "\n",
        "# Select upper triangle of correlation matrix\n",
        "upper = correlations.where(np.triu(np.ones(correlations.shape), k=1).astype(np.bool))\n",
        "\n",
        "# Find features with correlation of -1 \n",
        "corr_is_minus_one = [column for column in upper.columns if any(upper[column] <= -1.0)]\n",
        "\n",
        "print('List of features to drop due to correlation = 1',corr_is_one)\n",
        "print('List of features to drop due to correlation = -1',corr_is_minus_one)\n",
        "\n",
        "# # Drop features \n",
        "# df.drop(to_drop, axis=1, inplace=True)\n",
        "\n",
        "pd.set_option('display.max_columns', 155)\n",
        "pd.set_option('display.max_rows', 155)\n",
        "pd.set_option('display.width', 200)\n",
        "\n",
        "# print(correlations)\n",
        "print(correlations.shape)\n",
        "\n",
        "# ReSET PANDAS DISPLAY OPTIONS\n",
        "pd.reset_option(\"max_rows\")\n",
        "pd.reset_option(\"max_columns\")\n",
        "pd.reset_option('precision')\n",
        "pd.reset_option('display.width')"
      ],
      "metadata": {
        "colab": {
          "base_uri": "https://localhost:8080/"
        },
        "id": "pZDnY8wkG1aa",
        "outputId": "d3970883-52de-48f4-ef69-a334cdc597d0"
      },
      "execution_count": null,
      "outputs": [
        {
          "output_type": "stream",
          "name": "stdout",
          "text": [
            "List of features to drop due to correlation = 1 ['6', '9', '15', '16', '18', '20', '26', '29', '43', '52', '62', '89', '129', '130', '133', '146']\n",
            "List of features to drop due to correlation = -1 []\n",
            "(153, 153)\n"
          ]
        }
      ]
    },
    {
      "cell_type": "markdown",
      "source": [
        "**Anommolies in the data:**\n",
        "\n",
        "Features with a Correlation of 1 :\n",
        "* 5 and 6\n",
        "* 8 and 9\n",
        "* 14, 15, 16, 18, 20, 26, 29, 43, 52 and 62"
      ],
      "metadata": {
        "id": "EmneGcCPw6Tl"
      }
    },
    {
      "cell_type": "code",
      "source": [
        "# find collumns with only zeros\n",
        "Empty_columns_zeros = []\n",
        "count = 0\n",
        "percentage_zeros = 100.0 #percentage threshold of zeros or NaN missing values\n",
        "percent_zeros = 100 - (x_train.sum() * 100 / len(x_train))\n",
        "\n",
        "for i in range(len(x_train.columns)):\n",
        "  if percent_zeros[i] >= percentage_zeros:\n",
        "    # print('columns with all zeros: ',x_train.columns[i]) \n",
        "    Empty_columns_zeros.append(x_train.columns[i])\n",
        "    count += 1\n",
        "\n",
        "print('there are',count,'features with only zeros')\n",
        "print('List of Empty Features: ', Empty_columns_zeros)"
      ],
      "metadata": {
        "colab": {
          "base_uri": "https://localhost:8080/"
        },
        "id": "zlDlVxLN1Yzd",
        "outputId": "c2aaea02-1f18-420d-c4cf-8c1b6469c368"
      },
      "execution_count": null,
      "outputs": [
        {
          "output_type": "stream",
          "name": "stdout",
          "text": [
            "there are 72 features with only zeros\n",
            "List of Empty Features:  ['1', '2', '3', '10', '11', '12', '13', '19', '21', '22', '23', '24', '25', '27', '28', '30', '31', '32', '33', '34', '35', '36', '37', '39', '40', '41', '42', '44', '45', '46', '49', '53', '54', '55', '56', '57', '58', '59', '60', '63', '65', '69', '74', '81', '85', '87', '91', '92', '95', '96', '99', '100', '101', '102', '103', '114', '115', '116', '124', '131', '132', '134', '135', '136', '137', '147', '148', '149', '150', '151', '152', '153']\n"
          ]
        }
      ]
    },
    {
      "cell_type": "code",
      "source": [
        "# find collumns with only ones\n",
        "Empty_columns_ones = []\n",
        "count = 0\n",
        "percentage_ones = 100 #percentage threshold of ones \n",
        "percent_ones = x_train.sum() * 100 / len(x_train)\n",
        "\n",
        "for i in range(len(x_train.columns)):\n",
        "  if percent_ones[i] >= percentage_ones:\n",
        "    # print('columns with all zeros: ',x_train.columns[i]) \n",
        "    Empty_columns_ones.append(x_train.columns[i])\n",
        "    count += 1\n",
        "\n",
        "print('there are',count,'features with only ones')\n",
        "print('List of Empty Features: ', Empty_columns_ones)"
      ],
      "metadata": {
        "colab": {
          "base_uri": "https://localhost:8080/"
        },
        "id": "5hrOGBG6qdcb",
        "outputId": "7418f093-ee12-4aa7-bef9-e1fc77564d2b"
      },
      "execution_count": null,
      "outputs": [
        {
          "output_type": "stream",
          "name": "stdout",
          "text": [
            "there are 2 features with only ones\n",
            "List of Empty Features:  ['17', '139']\n"
          ]
        }
      ]
    },
    {
      "cell_type": "code",
      "source": [
        "# concatinate the lists of cor=1, cor=-1 and zero percent = 100\n",
        "drop_columms = Empty_columns_zeros + Empty_columns_ones + corr_is_one + corr_is_minus_one\n",
        "drop_columms = [int(x) for x in drop_columms]\n",
        "drop_columms.sort()\n",
        "drop_columms = [str(x) for x in drop_columms]\n",
        "\n",
        "# the following columns contain no useful informmation that is not already represented in the other features\n",
        "print('These',len(drop_columms),'features contain no useful data in the training set provided: ', drop_columms)\n",
        "\n"
      ],
      "metadata": {
        "colab": {
          "base_uri": "https://localhost:8080/"
        },
        "id": "qSLwau3s3jkw",
        "outputId": "a77b88eb-7d5e-46a7-93a1-f756c2c2ec35"
      },
      "execution_count": null,
      "outputs": [
        {
          "output_type": "stream",
          "name": "stdout",
          "text": [
            "These 90 features contain no useful data in the training set provided:  ['1', '2', '3', '6', '9', '10', '11', '12', '13', '15', '16', '17', '18', '19', '20', '21', '22', '23', '24', '25', '26', '27', '28', '29', '30', '31', '32', '33', '34', '35', '36', '37', '39', '40', '41', '42', '43', '44', '45', '46', '49', '52', '53', '54', '55', '56', '57', '58', '59', '60', '62', '63', '65', '69', '74', '81', '85', '87', '89', '91', '92', '95', '96', '99', '100', '101', '102', '103', '114', '115', '116', '124', '129', '130', '131', '132', '133', '134', '135', '136', '137', '139', '146', '147', '148', '149', '150', '151', '152', '153']\n"
          ]
        }
      ]
    },
    {
      "cell_type": "markdown",
      "source": [
        "I would normmally drop the columns listed above as they add nothing to the dataset, however the coursework brief specified that we should only scale/transformm and add new feaures to the dataset. \n",
        "\n",
        "From a data sccience perspective, this doesnt seem to make sense, however from a practical perspective, simmmply because informmation is not found within this particular test set, the features are unique and it is possible for a variation in the data to occur which mmmay be useful - we just didnt see it. besides, this will be handled later during feature reduction and selection"
      ],
      "metadata": {
        "id": "o5XR0tYLFhoS"
      }
    },
    {
      "cell_type": "code",
      "source": [
        "# # Remove features using the drop_columms list\n",
        "# x_train.drop(drop_columms, axis = 1, inplace = True)\n",
        "# x_test.drop(drop_columms, axis = 1, inplace = True)\n",
        "\n",
        "# # print(x_train_stripped.describe())\n",
        "# print(x_train.shape)\n",
        "# print(x_test.shape)"
      ],
      "metadata": {
        "id": "1-PK17vnUBpq"
      },
      "execution_count": null,
      "outputs": []
    },
    {
      "cell_type": "markdown",
      "source": [
        "# 5) **Pre-Processing** Data"
      ],
      "metadata": {
        "id": "kYHw3LXxL--5"
      }
    },
    {
      "cell_type": "code",
      "source": [
        "feat_anal_pre = pd.concat([\n",
        "                       x_train.min(),\n",
        "                       x_train.max(),\n",
        "                       x_train.mean(),\n",
        "                       x_train.std(),\n",
        "                       x_train.dtypes,\n",
        "                       x_train.kurtosis(),\n",
        "                       x_train.skew(),\n",
        "                       x_train.nunique()\n",
        "                       ], axis=1, join=\"inner\")\n",
        "\n",
        "colummn_names = ['min_pre', 'max_pre', 'mean_pre', 'StD_pre', 'dtypes_pre', 'kurtosis_pre', 'skew_pre',  'Unique_pre']\n",
        "feat_anal_pre.set_axis(colummn_names, axis=1, inplace=True)\n",
        "\n",
        "\n",
        "############################################################################################\n",
        "\n",
        "# make a list of features with abs skew >= 3 or <= -3, kurtosis >= 10, type = float and Unique > 100\n",
        "skew = x_train.skew()\n",
        "dtype = x_train.dtypes\n",
        "unique = x_train.nunique()\n",
        "kurt = x_train.kurtosis()\n",
        "minim = x_train.min()\n",
        "maxim = x_train.max()\n",
        "\n",
        "Power_Xform_list = []\n",
        "\n",
        "for i in range(len(x_train.columns)):\n",
        "  if abs(skew[i]) >= 1:\n",
        "    if dtype[i] == 'float64':\n",
        "      if unique[i] >= 100:\n",
        "        Power_Xform_list.append(x_train.columns[i])\n",
        "print('Power_Xform_list: ', Power_Xform_list)\n",
        "\n",
        "\n",
        "from sklearn.preprocessing import PowerTransformer\n",
        "tranform = PowerTransformer(method='yeo-johnson')\n",
        "# fit and transfor the trakning set\n",
        "x_train[Power_Xform_list] = tranform.fit_transform(x_train[Power_Xform_list])\n",
        "# just transform the test set\n",
        "x_test[Power_Xform_list] = tranform.transform(x_test[Power_Xform_list])\n",
        "\n",
        "############################################################################################\n",
        "\n",
        "skew = x_train.skew()\n",
        "dtype = x_train.dtypes\n",
        "unique = x_train.nunique()\n",
        "kurt = x_train.kurtosis()\n",
        "minim = x_train.min()\n",
        "maxim = x_train.max()\n",
        "\n",
        "Standardize_list = []\n",
        "\n",
        "for i in range(len(x_train.columns)):\n",
        "  if abs(kurt[i]) >= 10:\n",
        "    if dtype[i] == 'float64':\n",
        "      if unique[i] >= 100:\n",
        "        Standardize_list.append(x_train.columns[i])\n",
        "print('Standardize_list: ',Standardize_list)\n",
        "\n",
        "from sklearn.preprocessing import StandardScaler\n",
        "Standard = StandardScaler()\n",
        "\n",
        "# fit and standardize the trakning set\n",
        "x_train[Standardize_list] = Standard.fit_transform(x_train[Standardize_list])\n",
        "\n",
        "# just standardize the test set\n",
        "x_test[Standardize_list] = Standard.transform(x_test[Standardize_list])\n",
        "\n",
        "\n",
        "\n",
        "############################################################################################\n",
        "\n",
        "skew = x_train.skew()\n",
        "dtype = x_train.dtypes\n",
        "unique = x_train.nunique()\n",
        "kurt = x_train.kurtosis()\n",
        "minim = x_train.min()\n",
        "maxim = x_train.max()\n",
        "\n",
        "Scale_list = []\n",
        "\n",
        "\n",
        "for i in range(len(x_train.columns)):\n",
        "  if maxim[i] - minim[i] > 1:\n",
        "    if unique[i] > 1:\n",
        "      Scale_list.append(x_train.columns[i])\n",
        "\n",
        "for i in range(len(x_train.columns)):\n",
        "  if maxim[i] - minim[i] < 0.99:\n",
        "    if unique[i] > 1:\n",
        "      Scale_list.append(x_train.columns[i])\n",
        "\n",
        "Scale_list = list(dict.fromkeys(Scale_list))\n",
        "print('Scale_list: ',Scale_list)\n",
        "\n",
        "\n",
        "from sklearn.preprocessing import MinMaxScaler\n",
        "MM_Scaler = MinMaxScaler(feature_range=(0, 1))\n",
        "\n",
        "# fit and Scale the traning set\n",
        "x_train[Scale_list] = MM_Scaler.fit_transform(x_train[Scale_list])\n",
        "\n",
        "# just scale the test set\n",
        "x_test[Scale_list] = MM_Scaler.transform(x_test[Scale_list])\n",
        "\n",
        "############################################################################################\n",
        "\n",
        "skew = x_train.skew()\n",
        "dtype = x_train.dtypes\n",
        "unique = x_train.nunique()\n",
        "kurt = x_train.kurtosis()\n",
        "minim = x_train.min()\n",
        "maxim = x_train.max()\n",
        "\n",
        "Binarise_list = []\n",
        "\n",
        "for i in range(len(x_train.columns)):\n",
        "  if unique[i] == 2:\n",
        "    if dtype[i] == 'float64':\n",
        "      Binarise_list.append(x_train.columns[i])\n",
        "print('Binarise_list: ',Binarise_list)\n",
        "\n",
        "\n",
        "from sklearn.preprocessing import Binarizer\n",
        "Binary = Binarizer(threshold=0.5)\n",
        "\n",
        "# fit and Scale the traning set\n",
        "x_train[Binarise_list] = Binary.fit_transform(x_train[Binarise_list]).astype('int64')\n",
        "\n",
        "# just scale the test set\n",
        "x_test[Binarise_list] = Binary.transform(x_test[Binarise_list]).astype('int64')\n",
        "\n",
        "\n",
        "############################################################################################\n",
        "\n",
        "\n",
        "feat_anal_post = pd.concat([\n",
        "                       x_train.min(),\n",
        "                       x_train.max(),\n",
        "                       x_train.mean(),\n",
        "                       x_train.std(),\n",
        "                       x_train.dtypes,\n",
        "                       x_train.kurtosis(),\n",
        "                       x_train.skew(),\n",
        "                       x_train.nunique()\n",
        "                       ], axis=1, join=\"inner\")\n",
        "\n",
        "colummn_names = ['min_post', 'max_post', 'mean_post', 'StD_post', 'dtypes_post', 'kurtosis_post', 'skew_post',  'Unique_post']\n",
        "feat_anal_post.set_axis(colummn_names, axis=1, inplace=True)\n",
        "# print(feat_anal_post)\n",
        "\n",
        "pre_post_info = pd.concat([feat_anal_pre,feat_anal_post], axis=1, join=\"inner\")\n",
        "\n",
        "\n",
        "# make it fit on the screen\n",
        "pd.set_option('display.max_rows', 155)\n",
        "pd.set_option('display.max_columns', 155)\n",
        "pd.set_option('display.width', 150)\n",
        "\n",
        "\n",
        "\n",
        "\n",
        "# make a list of all the features that were processed\n",
        "processed_data_list = []\n",
        "processed_data_list = Power_Xform_list + Standardize_list + Binarise_list + Scale_list\n",
        "processed_data_list = list(dict.fromkeys(processed_data_list))\n",
        "print('processed_data_list:  ',processed_data_list)\n",
        "\n",
        "\n",
        "# compare data metrics before and after pre-processing for only the ones that changed\n",
        "print(pre_post_info.T[processed_data_list])\n",
        "\n",
        "\n",
        "# ReSET PANDAS DISPLAY OPTIONS\n",
        "pd.reset_option(\"max_columns\")\n",
        "pd.reset_option(\"max_rows\")\n",
        "pd.reset_option('display.width')"
      ],
      "metadata": {
        "colab": {
          "base_uri": "https://localhost:8080/"
        },
        "id": "-S5Rqfm0prMr",
        "outputId": "5577068e-98a8-46b7-cb00-6c0f52078362"
      },
      "execution_count": null,
      "outputs": [
        {
          "output_type": "stream",
          "name": "stdout",
          "text": [
            "Power_Xform_list:  ['5', '6', '8', '9', '76', '82', '107', '143', '154']\n",
            "Standardize_list:  ['107', '143']\n",
            "Scale_list:  ['5', '6', '8', '9', '76', '82', '107', '143', '154', '38', '77', '80', '88', '105', '106', '108', '109', '110', '113', '117', '121', '122', '125', '126', '127', '128', '129', '138', '144']\n",
            "Binarise_list:  ['106', '108', '113', '121', '126', '129', '138']\n",
            "processed_data_list:   ['5', '6', '8', '9', '76', '82', '107', '143', '154', '106', '108', '113', '121', '126', '129', '138', '38', '77', '80', '88', '105', '109', '110', '117', '122', '125', '127', '128', '144']\n",
            "                        5           6         8         9          76        82         107         143       154          106          108  \\\n",
            "min_pre          2.86e-06    2.86e-06         0         0           0         0           0           0         0            0            0   \n",
            "max_pre           0.97844     0.97844         1         1     0.99099         1      0.2004     0.99424         1      0.86667    0.0015301   \n",
            "mean_pre       0.00625233  0.00625233  0.193837  0.193837  0.00329386  0.225738  0.00236748  0.00553975  0.178474  0.000750178   0.00012147   \n",
            "StD_pre         0.0155409   0.0155409  0.354444  0.354444   0.0210051  0.271498   0.0157205   0.0604761  0.360078    0.0254873  0.000413651   \n",
            "dtypes_pre        float64     float64   float64   float64     float64   float64     float64     float64   float64      float64      float64   \n",
            "kurtosis_pre      669.517     669.517   1.18322   1.18322     1491.33  0.742472     92.2522     156.352   1.20539      1150.35      7.68326   \n",
            "skew_pre          17.2002     17.2002   1.77215   1.77215     34.9394   1.43374     8.98183     12.1775   1.78355      33.9459      3.11177   \n",
            "Unique_pre           8718        8718       399       399         133      4096        1738        1076       333            2            2   \n",
            "min_post                0           0         0         0           0         0           0           0         0            0            0   \n",
            "max_post                1           1         1         1           1         1           1           1         1            1            1   \n",
            "mean_post         0.36671     0.36671  0.345575  0.345575    0.318493  0.442882    0.032567   0.0110049  0.268612  0.000865587    0.0793867   \n",
            "StD_post         0.235251    0.235251  0.316901  0.316901    0.245282  0.315936    0.176691    0.104158  0.340597    0.0294083     0.270343   \n",
            "dtypes_post       float64     float64   float64   float64     float64   float64     float64     float64   float64        int64        int64   \n",
            "kurtosis_post   0.0934065   0.0934065   0.29211   0.29211     1.59184 -0.958865     25.9995     85.8716  0.690845      1150.35      7.68326   \n",
            "skew_post        0.635083    0.635083   1.25915   1.25915     1.56749  0.441848     5.29012     9.37096    1.5127      33.9459      3.11177   \n",
            "Unique_post          8709        8709       399       399          88      4096        1645         177       333            2            2   \n",
            "\n",
            "                       113          121          126          129          138        38         77          80           88          105  \\\n",
            "min_pre                  0            0            0            0          0.5         0          0           0            0            0   \n",
            "max_pre            0.42857    0.0045662     1.54e-05     1.58e-05         0.88   0.93354    0.91765     0.53907      0.46875          0.5   \n",
            "mean_pre       1.32487e-05  2.12679e-05  3.31664e-07  3.40279e-07     0.500004  0.713756  0.0238907  0.00130112  1.44908e-05  1.03046e-05   \n",
            "StD_pre         0.00238283  0.000310905  2.23555e-06  2.29361e-06   0.00121983  0.109809    0.07453  0.00574946   0.00245102   0.00196575   \n",
            "dtypes_pre         float64      float64      float64      float64      float64   float64    float64     float64      float64      float64   \n",
            "kurtosis_pre       32344.7      209.715      41.4567      41.4567        97044  0.741279    73.3344     8671.49      33212.2      48519.7   \n",
            "skew_pre            179.85      14.5503      6.59211      6.59211      311.519 -0.977053    8.08635     92.7409      181.116      211.958   \n",
            "Unique_pre               2            2            2            2            2     25023         84          18            4            3   \n",
            "min_post                 0            0            0            0            0         0          0           0            0            0   \n",
            "max_post                 1            1            1            1            1         1          1           1            1            1   \n",
            "mean_post      3.09138e-05   0.00465768    0.0215366    0.0215366  1.03046e-05  0.764569  0.0260346  0.00241365  3.09138e-05  2.06092e-05   \n",
            "StD_post        0.00555996    0.0680884     0.145165     0.145165   0.00321008  0.117626  0.0812184   0.0106655   0.00522885   0.00393149   \n",
            "dtypes_post          int64        int64        int64        int64        int64   float64    float64     float64      float64      float64   \n",
            "kurtosis_post      32344.7      209.715      41.4567      41.4567        97044  0.741279    73.3344     8671.49      33212.2      48519.7   \n",
            "skew_post           179.85      14.5503      6.59211      6.59211      311.519 -0.977053    8.08635     92.7409      181.116      211.958   \n",
            "Unique_post              2            2            2            2            2     25023         84          18            4            3   \n",
            "\n",
            "                       109          110          117          122          125          127          128          144  \n",
            "min_pre                  0            0            0            0            0            0            0            0  \n",
            "max_pre            0.66667   0.00012521      0.15611    0.0079365      0.33333     0.015686     3.09e-05      0.86556  \n",
            "mean_pre       0.000666377  7.63617e-06  6.49351e-06  0.000182254  0.000494428  0.000168995  6.42154e-07  0.000346328  \n",
            "StD_pre          0.0109967  2.97699e-05  0.000910894  0.000998029     0.012729   0.00113937  4.36679e-06     0.013305  \n",
            "dtypes_pre         float64      float64      float64      float64      float64      float64      float64      float64  \n",
            "kurtosis_pre       562.075      11.3435      22936.5      37.9008      673.007      41.6599      43.3606      2075.75  \n",
            "skew_pre            19.766      3.64925      148.691      5.99819      25.9303      6.60051      6.71766      43.5409  \n",
            "Unique_pre               4            3            6            3            3            3            3           75  \n",
            "min_post                 0            0            0            0            0            0            0            0  \n",
            "max_post                 1            1            1            1            1            1            1            1  \n",
            "mean_post      0.000999561    0.0609869  4.15957e-05     0.022964    0.0014833    0.0107736    0.0207817  0.000400121  \n",
            "StD_post         0.0164949      0.23776   0.00583495     0.125752    0.0381874    0.0726361      0.14132    0.0153716  \n",
            "dtypes_post        float64      float64      float64      float64      float64      float64      float64      float64  \n",
            "kurtosis_post      562.075      11.3435      22936.5      37.9008      673.007      41.6599      43.3606      2075.75  \n",
            "skew_post           19.766      3.64925      148.691      5.99819      25.9303      6.60051      6.71766      43.5409  \n",
            "Unique_post              4            3            6            3            3            3            3           75  \n"
          ]
        }
      ]
    },
    {
      "cell_type": "markdown",
      "source": [
        "# 6) **Shuffle** the Pandas Dataframe"
      ],
      "metadata": {
        "id": "H1cbe05EYN6R"
      }
    },
    {
      "cell_type": "code",
      "source": [
        "# Shuffle the dataframe\n",
        "x_train = x_train.sample(frac=1).reset_index(drop=True)\n",
        "x_test = x_test.sample(frac=1).reset_index(drop=True)"
      ],
      "metadata": {
        "id": "AYPMr1JcYSuh"
      },
      "execution_count": null,
      "outputs": []
    },
    {
      "cell_type": "markdown",
      "source": [
        "# 7) Pandas Dataset **Split to NumPy** (and empty the generated features dataframe)"
      ],
      "metadata": {
        "id": "-cDPN3ii5zNW"
      }
    },
    {
      "cell_type": "code",
      "source": [
        "'''\n",
        "Put Data into Labelled Dataframmes\n",
        "'''\n",
        "\n",
        "# print(x_train.head())\n",
        "print('x_train before : ',x_train.shape)\n",
        "print('x_test before : ',x_test.shape)\n",
        "\n",
        "# training set\n",
        "x_train.np = x_train.iloc[:,0:152].to_numpy()\n",
        "y_train = x_train['class']\n",
        "y_train.np = y_train.to_numpy()\n",
        "\n",
        "# test set\n",
        "x_test.np = x_test.iloc[:,0:152].to_numpy()\n",
        "y_test = x_test['class']\n",
        "y_test.np = y_test.to_numpy()\n",
        "\n",
        "print('x_train.np. after : ',x_train.np.shape)\n",
        "print('y_train.np. after : ',y_train.np.shape)\n",
        "print('x_test.np. after : ',x_test.np.shape)\n",
        "print('y_test.np. after : ',y_test.np.shape)\n",
        "# print(x_train.np)\n",
        "# print(y_train.np)\n",
        "\n",
        "\n",
        "# create empty pandas dataframe to concatinate generated features to\n",
        "# Create an empty Numpy array with 4 columns or 0 rows\n",
        "Gen_Feat_Train = np.empty((97044, 0), float)\n",
        "Gen_Feat_Test = np.empty((40158, 0), float)\n",
        "\n",
        "Gen_Feat_Train = pd.DataFrame(Gen_Feat_Train)\n",
        "Gen_Feat_Test = pd.DataFrame(Gen_Feat_Test)\n",
        "\n",
        "print('Gen_Feat_Train : ', Gen_Feat_Train.shape)\n",
        "print('Gen_Feat_Test : ', Gen_Feat_Test.shape)"
      ],
      "metadata": {
        "colab": {
          "base_uri": "https://localhost:8080/"
        },
        "id": "9bnt4FpqNSr4",
        "outputId": "28ec2e4f-1f9f-47c0-be83-eda2342d0951"
      },
      "execution_count": null,
      "outputs": [
        {
          "output_type": "stream",
          "name": "stdout",
          "text": [
            "x_train before :  (97044, 153)\n",
            "x_test before :  (40158, 153)\n",
            "x_train.np. after :  (97044, 152)\n",
            "y_train.np. after :  (97044,)\n",
            "x_test.np. after :  (40158, 152)\n",
            "y_test.np. after :  (40158,)\n",
            "Gen_Feat_Train :  (97044, 0)\n",
            "Gen_Feat_Test :  (40158, 0)\n"
          ]
        }
      ]
    },
    {
      "cell_type": "markdown",
      "source": [
        "# ------FEATURE GENERATION-----------------------------------------------------------------------------\n",
        "\n"
      ],
      "metadata": {
        "id": "HjaY6mMTwDFQ"
      }
    },
    {
      "cell_type": "markdown",
      "source": [
        "# 8) **Stacked Sparse Autoencoder** for Dimansionality Reduction and Feature Generation"
      ],
      "metadata": {
        "id": "qS3S8MYpNTJA"
      }
    },
    {
      "cell_type": "code",
      "source": [
        "from __future__ import print_function\n",
        "from tensorflow.keras.models import Model\n",
        "from tensorflow.keras.layers import Dense, Input\n",
        "from tensorflow.keras.regularizers import l1, l2, l1_l2\n",
        "from tensorflow.keras.optimizers import Adam\n",
        "import time\n",
        "start = time.time()\n",
        "\n",
        "\n",
        "input = Input(shape = (152,))\n",
        "\n",
        "# encoder\n",
        "encoder2 = Dense(100, activation='sigmoid')(input)\n",
        "encoder3 = Dense(50, activation='softmax')(encoder2)\n",
        "\n",
        "# Code - Sparse\n",
        "encoder4 = Dense(4, activation='sigmoid', activity_regularizer = l1(1e-6), kernel_regularizer = l2(1e-6))(encoder3)\n",
        "\n",
        "# # Code - Standard     \n",
        "# encoder4 = Dense(4, activation='sigmoid', )(encoder3)                          \n",
        "\n",
        "# Decoder\n",
        "decoder2 = Dense(50, activation='sigmoid')(encoder4)\n",
        "decoder3 = Dense(100, activation='sigmoid')(decoder2)\n",
        "decoder4 = Dense(152, activation='sigmoid')(decoder3)"
      ],
      "metadata": {
        "id": "5OV6GfzoT-yh"
      },
      "execution_count": null,
      "outputs": []
    },
    {
      "cell_type": "code",
      "source": [
        "# This model maps an input to it's reconstruction\n",
        "autoencoder = Model(inputs=input, outputs=decoder4)\n",
        "\n",
        "autoencoder.compile(optimizer='adam', loss='binary_crossentropy') # , metrics=['accuracy']\n",
        "\n",
        "autoencoder.fit(x_train.np, x_train.np, \n",
        "                epochs=3, \n",
        "                batch_size=128,\n",
        "                shuffle=True, \n",
        "                validation_data=(x_test.np, x_test.np))"
      ],
      "metadata": {
        "colab": {
          "base_uri": "https://localhost:8080/"
        },
        "id": "mdbqwsB7BtkQ",
        "outputId": "dac3f238-a4a2-40b9-bcb4-aa5130e957c7"
      },
      "execution_count": null,
      "outputs": [
        {
          "output_type": "stream",
          "name": "stdout",
          "text": [
            "Epoch 1/3\n",
            "759/759 [==============================] - 6s 6ms/step - loss: 0.1061 - val_loss: 0.1794\n",
            "Epoch 2/3\n",
            "759/759 [==============================] - 4s 6ms/step - loss: 0.0866 - val_loss: 0.1899\n",
            "Epoch 3/3\n",
            "759/759 [==============================] - 4s 6ms/step - loss: 0.0761 - val_loss: 0.1787\n"
          ]
        },
        {
          "output_type": "execute_result",
          "data": {
            "text/plain": [
              "<keras.callbacks.History at 0x7f1e92395590>"
            ]
          },
          "metadata": {},
          "execution_count": 784
        }
      ]
    },
    {
      "cell_type": "code",
      "source": [
        "# create encoder model\n",
        "encoder = Model(inputs=input, outputs=encoder4)\n",
        "\n",
        "# get latent vector of the model to use as new features\n",
        "latent_vector_train = encoder.predict(x_train.np)\n",
        "latent_vector_test = encoder.predict(x_test.np)\n",
        "\n",
        "# # # Fit the scaler to the features and transform\n",
        "# from sklearn.preprocessing import MinMaxScaler\n",
        "# MM_Scaler = MinMaxScaler(feature_range=(0, 1))\n",
        "# latent_vector_train = MM_Scaler.fit_transform(latent_vector_train)\n",
        "# latent_vector_test = MM_Scaler.transform(latent_vector_test)\n",
        "\n",
        "# put back into pandas and add suffix\n",
        "latent_vector_train = pd.DataFrame(latent_vector_train).add_suffix('_SAE')\n",
        "latent_vector_test = pd.DataFrame(latent_vector_test).add_suffix('_SAE')\n",
        "\n",
        "# print(latent_vector_train)\n",
        "print(latent_vector_train.shape)\n",
        "\n",
        "# print(latent_vector_test)\n",
        "print(latent_vector_test.shape)\n",
        "\n",
        "# Join the generaed features onto the features dataframe\n",
        "Gen_Feat_Train = pd.concat([Gen_Feat_Train,latent_vector_train], axis=1, join=\"inner\")\n",
        "Gen_Feat_Test = pd.concat([Gen_Feat_Test,latent_vector_test], axis=1, join=\"inner\")\n",
        "\n",
        "# check we put the data in the right places\n",
        "print(latent_vector_train.shape)\n",
        "print(latent_vector_test.shape)\n",
        "print(latent_vector_train.shape)\n",
        "print(latent_vector_test.shape)\n",
        "\n",
        "print('Gen_Feat_Train : ', Gen_Feat_Train.shape)\n",
        "print('Gen_Feat_Test : ', Gen_Feat_Test.shape)\n",
        "\n",
        "#set feature list to include all features of Gen_Feat_Train\n",
        "Feature_List = Gen_Feat_Train.columns.values\n",
        "\n",
        "end = time.time()\n",
        "runtime_SAE = str(round(end-start , 4))+'s run-time for Feature Generation'\n",
        "print(runtime_SAE)"
      ],
      "metadata": {
        "colab": {
          "base_uri": "https://localhost:8080/"
        },
        "id": "px4UAEEjll_Q",
        "outputId": "0d96a871-1342-485b-9db2-44f96eeee212"
      },
      "execution_count": null,
      "outputs": [
        {
          "output_type": "stream",
          "name": "stdout",
          "text": [
            "(97044, 4)\n",
            "(40158, 4)\n",
            "(97044, 4)\n",
            "(40158, 4)\n",
            "(97044, 4)\n",
            "(40158, 4)\n",
            "Gen_Feat_Train :  (97044, 4)\n",
            "Gen_Feat_Test :  (40158, 4)\n",
            "27.909s run-time for Feature Generation\n"
          ]
        }
      ]
    },
    {
      "cell_type": "code",
      "source": [
        "# Gen_Feat_Train.to_csv('SAE_Train.csv’) # relative position\n",
        "# Gen_Feat_Test.to_csv('SAE_Test.csv’) # relative position"
      ],
      "metadata": {
        "id": "1AXbi6m_9uHU"
      },
      "execution_count": null,
      "outputs": []
    },
    {
      "cell_type": "markdown",
      "source": [
        "# 9) Stacked Sparse Autoencoder Optimisation using GridSearchCV"
      ],
      "metadata": {
        "id": "WdxwGkD0G-Ze"
      }
    },
    {
      "cell_type": "code",
      "source": [
        "from keras.wrappers.scikit_learn import KerasClassifier\n",
        "from sklearn.model_selection import GridSearchCV\n",
        "from tensorflow.keras.regularizers import l1, l2\n",
        "\n",
        "# def create_model(act = 'sigmoid', hid_act = 'softmax', act_reg = 1e-6, kern_reg = 1e-6, ep = 3, batch = 128):\n",
        "encoder = Model()\n",
        "\n",
        "function code()\n",
        "\n",
        "def create_model(activation, act_reg, kern_reg):\n",
        "  input = Input(shape = (152,))\n",
        "  # encoder\n",
        "  encoder1 = Dense(100, activation)(input)\n",
        "  encoder2 = Dense(50, activation ='softmax')(encoder1)\n",
        "  # Code - Sparse\n",
        "  code = Dense(4, activation, activity_regularizer = l1(act_reg), kernel_regularizer = l2(kern_reg))(encoder2)                        \n",
        "  # Decoder\n",
        "  decoder1 = Dense(50, activation)(code)\n",
        "  decoder2 = Dense(100, activation)(decoder1)\n",
        "  out = Dense(152, activation ='sigmoid')(decoder2)\n",
        "  # This model maps an input to it's reconstruction\n",
        "  autoencoder = Model(inputs=input, outputs=out)\n",
        "  autoencoder.compile(optimizer='adam', loss='binary_crossentropy') # , metrics=['accuracy']\n",
        "  return autoencoder\n",
        "\n",
        "\n",
        "model = KerasClassifier(build_fn = create_model, batch_size=1000, epochs=3)\n",
        "encoder = Model(inputs=input, outputs=code)\n",
        "\n",
        "print(encoder)\n",
        "\n",
        "#now write out all the parameters you want to try out for the grid search\n",
        "activation_list = ['sigmoid']\n",
        "activity_regularizer_list = [1e-6]\n",
        "kernel_regularizer_list = [1e-6]\n",
        "\n",
        "# learn_rate = [0.1, 0.2, ...]\n",
        "# init = ['unform', 'normal', 'zero', ...]\n",
        "# optimizer = ['SGD', 'Adam' ...]\n",
        "# param_grid = dict(activation=activation, learn_rate=learn_rate, init=init, optimizer=optimizer)\n",
        "\n",
        "param_grid = dict(activation=activation_list, \n",
        "                  act_reg = activity_regularizer_list,\n",
        "                  kern_reg = kernel_regularizer_list\n",
        "                  )\n",
        "\n",
        "# define model evaluation method\n",
        "cv = ShuffleSplit(n_splits=10, test_size=(40158/97044), random_state=seed)\n",
        "\n",
        "grid = GridSearchCV(estimator = model, param_grid=param_grid, verbose=1, scoring = 'accuracy', cv=cv, n_jobs=-1)\n",
        "\n",
        "grid_result = grid.fit(x_train.np, x_train.np, \n",
        "                epochs=3, \n",
        "                batch_size=128,  \n",
        "                shuffle=True, \n",
        "                validation_data=(x_test.np, x_test.np))\n",
        "\n",
        "# summarize results\n",
        "print(\"Best: %f using %s\" % (grid_result.best_score_, grid_result.best_params_))\n",
        "means = grid_result.cv_results_['mean_test_score']\n",
        "stds = grid_result.cv_results_['std_test_score']\n",
        "params = grid_result.cv_results_['params']\n",
        "\n",
        "for mean, stdev, param in zip(means, stds, params):\n",
        "  print(\"%f (%f) with: %r\" % (mean, stdev, param))\n"
      ],
      "metadata": {
        "id": "4BW_MPNcIR4L"
      },
      "execution_count": null,
      "outputs": []
    },
    {
      "cell_type": "code",
      "source": [],
      "metadata": {
        "colab": {
          "base_uri": "https://localhost:8080/"
        },
        "id": "1ULxoAR5ktMA",
        "outputId": "8a0a521f-ae2a-4b13-93a5-e95bd27f4956"
      },
      "execution_count": null,
      "outputs": [
        {
          "output_type": "stream",
          "name": "stdout",
          "text": [
            "<keras.regularizers.L1 object at 0x7f2fc5aa3890>\n"
          ]
        }
      ]
    },
    {
      "cell_type": "code",
      "source": [
        "# # create encoder model\n",
        "encoder = Model(inputs=input, outputs=code)\n",
        "\n",
        "# get latent vector of the model to use as new features\n",
        "latent_vector_train = encoder.predict(x_train.np)\n",
        "latent_vector_test = encoder.predict(x_test.np)\n",
        "\n",
        "# # # Fit the scaler to the features and transform\n",
        "# from sklearn.preprocessing import MinMaxScaler\n",
        "# MM_Scaler = MinMaxScaler(feature_range=(0, 1))\n",
        "# latent_vector_train = MM_Scaler.fit_transform(latent_vector_train)\n",
        "# latent_vector_test = MM_Scaler.transform(latent_vector_test)\n",
        "\n",
        "# put back into pandas and add suffix\n",
        "latent_vector_train = pd.DataFrame(latent_vector_train).add_suffix('_SAE')\n",
        "latent_vector_test = pd.DataFrame(latent_vector_test).add_suffix('_SAE')\n",
        "\n",
        "# print(latent_vector_train)\n",
        "print(latent_vector_train.shape)\n",
        "\n",
        "# print(latent_vector_test)\n",
        "print(latent_vector_test.shape)\n",
        "\n",
        "# Join the generaed features onto the features dataframe\n",
        "Gen_Feat_Train = pd.concat([Gen_Feat_Train,latent_vector_train], axis=1, join=\"inner\")\n",
        "Gen_Feat_Test = pd.concat([Gen_Feat_Test,latent_vector_test], axis=1, join=\"inner\")\n",
        "\n",
        "# check we put the data in the right places\n",
        "print(latent_vector_train.shape)\n",
        "print(latent_vector_test.shape)\n",
        "print(latent_vector_train)\n",
        "print(latent_vector_test)\n",
        "\n",
        "print('Gen_Feat_Train : ', Gen_Feat_Train)\n",
        "print('Gen_Feat_Train : ', Gen_Feat_Train)\n",
        "\n",
        "#set feature list to include all features of Gen_Feat_Train\n",
        "Feature_List = Gen_Feat_Train.columns.values"
      ],
      "metadata": {
        "colab": {
          "base_uri": "https://localhost:8080/"
        },
        "id": "reXpoKDcRkoq",
        "outputId": "519dab4f-7df2-4eb5-f85c-6dd6a6c7fbcb"
      },
      "execution_count": null,
      "outputs": [
        {
          "output_type": "stream",
          "name": "stdout",
          "text": [
            "(97044, 4)\n",
            "(40158, 4)\n",
            "(97044, 4)\n",
            "(40158, 4)\n",
            "       0_SAE_SAE  1_SAE_SAE  2_SAE_SAE  3_SAE_SAE\n",
            "0       0.186711   0.216213   0.217469   0.207227\n",
            "1       0.087675   0.102525   0.103121   0.098623\n",
            "2       0.042653   0.049704   0.050015   0.048209\n",
            "3       0.041978   0.048911   0.049217   0.047449\n",
            "4       0.042652   0.049704   0.050015   0.048209\n",
            "...          ...        ...        ...        ...\n",
            "97039   0.042730   0.049795   0.050106   0.048296\n",
            "97040   0.042735   0.049801   0.050113   0.048302\n",
            "97041   0.042728   0.049793   0.050104   0.048294\n",
            "97042   0.042739   0.049806   0.050117   0.048306\n",
            "97043   0.042740   0.049806   0.050118   0.048307\n",
            "\n",
            "[97044 rows x 4 columns]\n",
            "       0_SAE_SAE  1_SAE_SAE  2_SAE_SAE  3_SAE_SAE\n",
            "0       0.049094   0.057276   0.057630   0.055456\n",
            "1       0.049065   0.057242   0.057596   0.055423\n",
            "2       0.049152   0.057344   0.057699   0.055521\n",
            "3       0.098623   0.115305   0.115966   0.110795\n",
            "4       0.047832   0.055793   0.056139   0.054037\n",
            "...          ...        ...        ...        ...\n",
            "40153   0.633535   0.616349   0.636579   0.630906\n",
            "40154   0.638839   0.620862   0.641254   0.635754\n",
            "40155   0.638507   0.620581   0.640963   0.635452\n",
            "40156   0.688983   0.663985   0.685647   0.681797\n",
            "40157   0.689917   0.664796   0.686478   0.682659\n",
            "\n",
            "[40158 rows x 4 columns]\n",
            "Gen_Feat_Train :         0_SAE_SAE  1_SAE_SAE  2_SAE_SAE  3_SAE_SAE\n",
            "0       0.186711   0.216213   0.217469   0.207227\n",
            "1       0.087675   0.102525   0.103121   0.098623\n",
            "2       0.042653   0.049704   0.050015   0.048209\n",
            "3       0.041978   0.048911   0.049217   0.047449\n",
            "4       0.042652   0.049704   0.050015   0.048209\n",
            "...          ...        ...        ...        ...\n",
            "97039   0.042730   0.049795   0.050106   0.048296\n",
            "97040   0.042735   0.049801   0.050113   0.048302\n",
            "97041   0.042728   0.049793   0.050104   0.048294\n",
            "97042   0.042739   0.049806   0.050117   0.048306\n",
            "97043   0.042740   0.049806   0.050118   0.048307\n",
            "\n",
            "[97044 rows x 4 columns]\n",
            "Gen_Feat_Train :         0_SAE_SAE  1_SAE_SAE  2_SAE_SAE  3_SAE_SAE\n",
            "0       0.186711   0.216213   0.217469   0.207227\n",
            "1       0.087675   0.102525   0.103121   0.098623\n",
            "2       0.042653   0.049704   0.050015   0.048209\n",
            "3       0.041978   0.048911   0.049217   0.047449\n",
            "4       0.042652   0.049704   0.050015   0.048209\n",
            "...          ...        ...        ...        ...\n",
            "97039   0.042730   0.049795   0.050106   0.048296\n",
            "97040   0.042735   0.049801   0.050113   0.048302\n",
            "97041   0.042728   0.049793   0.050104   0.048294\n",
            "97042   0.042739   0.049806   0.050117   0.048306\n",
            "97043   0.042740   0.049806   0.050118   0.048307\n",
            "\n",
            "[97044 rows x 4 columns]\n"
          ]
        }
      ]
    },
    {
      "cell_type": "markdown",
      "source": [
        "# 10) **PCA** for Feature Generation"
      ],
      "metadata": {
        "id": "PRQvQKTfyDGD"
      }
    },
    {
      "cell_type": "code",
      "source": [
        "from sklearn.decomposition import PCA\n",
        "\n",
        "import time\n",
        "start = time.time()\n",
        "\n",
        "features = 10\n",
        "\n",
        "# Make an instanc of the Model\n",
        "pca = PCA(n_components=features,\n",
        "          copy = True,\n",
        "          whiten = False,\n",
        "          svd_solver = 'auto',\n",
        "          tol = 0.0,\n",
        "          iterated_power = 'auto',\n",
        "          random_state = None\n",
        "          )\n",
        "\n",
        "latent_vector_train = pca.fit_transform(x_train.np)\n",
        "latent_vector_test = pca.transform(x_test.np)\n",
        "\n",
        "\n",
        "# # Fit the scaler to the features and transform\n",
        "from sklearn.preprocessing import MinMaxScaler\n",
        "MM_Scaler = MinMaxScaler(feature_range=(0, 1))\n",
        "latent_vector_train = MM_Scaler.fit_transform(latent_vector_train)\n",
        "latent_vector_test = MM_Scaler.transform(latent_vector_test)\n",
        "\n",
        "# put back into pandas and add suffix\n",
        "latent_vector_train = pd.DataFrame(latent_vector_train).add_suffix('_PCA')\n",
        "latent_vector_test = pd.DataFrame(latent_vector_test).add_suffix('_PCA')\n",
        "\n",
        "print(latent_vector_train)\n",
        "print(latent_vector_test)\n",
        "print(Gen_Feat_Train)\n",
        "print(Gen_Feat_Test)\n",
        "\n",
        "# output explained variance for new features\n",
        "print('explained variance ratios', pd.DataFrame(pca.explained_variance_ratio_))\n",
        "print('Total Explained Variance: ',pca.explained_variance_ratio_.sum())\n",
        "\n",
        "# Join the generaed features onto the features dataframe\n",
        "Gen_Feat_Train = pd.concat([Gen_Feat_Train,latent_vector_train], axis=1, join=\"inner\")\n",
        "Gen_Feat_Test = pd.concat([Gen_Feat_Test,latent_vector_test], axis=1, join=\"inner\")\n",
        "\n",
        "\n",
        "end = time.time()\n",
        "runtime_PCA = str(round(end-start , 4))+'s run-time for Feature Generation'\n",
        "print(runtime_PCA)\n",
        "\n",
        "\n",
        "# Plot\n",
        "plt.plot(range(0,features), pca.explained_variance_ratio_)\n",
        "plt.ylabel('Explained Variance')\n",
        "plt.xlabel('Principal Components')\n",
        "plt.title('Explained Variance Ratio')\n",
        "plt.show()\n",
        "\n",
        "\n",
        "# # select the ten most relevant features\n",
        "# from sklearn.feature_selection import RFE\n",
        "# rfe = RFE(model, n_features_to_select = 10)\n",
        "# fit = rfe.fit(latent_vector_train, y_train.np)\n",
        "\n",
        "# print(\"Num Features: %d\" % fit.n_features_)\n",
        "# # print(\"Selected Features: %s\" % fit.support_)\n",
        "# print(\"Feature Ranking: %s\" % fit.ranking_)\n",
        "\n",
        "# # modify Feature_List to only include selected features\n",
        "# PCA_Feature_List = []\n",
        "# for feat in range(len(fit.ranking_)):\n",
        "#   if fit.ranking_[feat] == 1:\n",
        "#     PCA_Feature_List.append(latent_vector_train.columns[feat])   \n",
        "# print(PCA_Feature_List)\n",
        "# print(latent_vector_train[PCA_Feature_List].columns)\n",
        "# print(latent_vector_test[PCA_Feature_List].columns)\n",
        "\n",
        "\n",
        "\n",
        "\n",
        "# check we put the data in the right places\n",
        "print(latent_vector_train.shape)\n",
        "print(latent_vector_test.shape)\n",
        "print(latent_vector_train.shape)\n",
        "print(latent_vector_test.shape)\n",
        "\n",
        "print('Gen_Feat_Train : ', Gen_Feat_Train.shape)\n",
        "print('Gen_Feat_Train : ', Gen_Feat_Train.shape)\n",
        "\n",
        "#set feature list to include all features of Gen_Feat_Train\n",
        "Feature_List = Gen_Feat_Train.columns\n",
        "print(Feature_List)"
      ],
      "metadata": {
        "colab": {
          "base_uri": "https://localhost:8080/"
        },
        "id": "jhj96zXpx-DE",
        "outputId": "b3233508-85af-41d9-fd0a-d419a8fe7fdf"
      },
      "execution_count": null,
      "outputs": [
        {
          "output_type": "stream",
          "name": "stdout",
          "text": [
            "          0_PCA     1_PCA     2_PCA  ...     7_PCA     8_PCA     9_PCA\n",
            "0      0.550640  0.566594  0.146304  ...  0.430744  0.337058  0.335958\n",
            "1      0.456212  0.892802  0.001978  ...  0.507697  0.373927  0.404328\n",
            "2      0.055976  0.934653  0.810121  ...  0.536603  0.182348  0.245703\n",
            "3      0.030435  0.964118  0.912767  ...  0.483752  0.338431  0.967214\n",
            "4      0.056380  0.934481  0.809766  ...  0.538018  0.180630  0.240669\n",
            "...         ...       ...       ...  ...       ...       ...       ...\n",
            "97039  0.044924  0.920679  0.806402  ...  0.543398  0.191552  0.191462\n",
            "97040  0.044963  0.920678  0.806308  ...  0.543292  0.191534  0.191410\n",
            "97041  0.044931  0.920714  0.806492  ...  0.543276  0.191486  0.191404\n",
            "97042  0.044995  0.920681  0.806242  ...  0.543193  0.191512  0.191361\n",
            "97043  0.045003  0.920689  0.806250  ...  0.543147  0.191493  0.191339\n",
            "\n",
            "[97044 rows x 10 columns]\n",
            "          0_PCA     1_PCA     2_PCA  ...     7_PCA     8_PCA     9_PCA\n",
            "0      0.938715  0.575307  0.492109  ...  0.426495  0.340379  0.328170\n",
            "1      0.932452  0.581994  0.487397  ...  0.526210  0.335725  0.334012\n",
            "2      0.946963  0.566976  0.501031  ...  0.426635  0.345576  0.340390\n",
            "3      0.451505  0.883253  0.006535  ...  0.507087  0.379563  0.353748\n",
            "4      0.963886  0.573182  0.485927  ...  0.552377  0.410038  0.409967\n",
            "...         ...       ...       ...  ...       ...       ...       ...\n",
            "40153  0.375551  0.177282  0.364309  ...  0.469582  0.326575  0.307416\n",
            "40154  0.381921  0.170737  0.369563  ...  0.415956  0.329869  0.305264\n",
            "40155  0.381723  0.170943  0.369394  ...  0.417687  0.329740  0.305262\n",
            "40156  0.381470  0.170381  0.369677  ...  0.418555  0.331011  0.304634\n",
            "40157  0.381678  0.170169  0.369807  ...  0.416817  0.331147  0.304632\n",
            "\n",
            "[40158 rows x 10 columns]\n",
            "Empty DataFrame\n",
            "Columns: []\n",
            "Index: [0, 1, 2, 3, 4, 5, 6, 7, 8, 9, 10, 11, 12, 13, 14, 15, 16, 17, 18, 19, 20, 21, 22, 23, 24, 25, 26, 27, 28, 29, 30, 31, 32, 33, 34, 35, 36, 37, 38, 39, 40, 41, 42, 43, 44, 45, 46, 47, 48, 49, 50, 51, 52, 53, 54, 55, 56, 57, 58, 59, 60, 61, 62, 63, 64, 65, 66, 67, 68, 69, 70, 71, 72, 73, 74, 75, 76, 77, 78, 79, 80, 81, 82, 83, 84, 85, 86, 87, 88, 89, 90, 91, 92, 93, 94, 95, 96, 97, 98, 99, ...]\n",
            "\n",
            "[97044 rows x 0 columns]\n",
            "Empty DataFrame\n",
            "Columns: []\n",
            "Index: [0, 1, 2, 3, 4, 5, 6, 7, 8, 9, 10, 11, 12, 13, 14, 15, 16, 17, 18, 19, 20, 21, 22, 23, 24, 25, 26, 27, 28, 29, 30, 31, 32, 33, 34, 35, 36, 37, 38, 39, 40, 41, 42, 43, 44, 45, 46, 47, 48, 49, 50, 51, 52, 53, 54, 55, 56, 57, 58, 59, 60, 61, 62, 63, 64, 65, 66, 67, 68, 69, 70, 71, 72, 73, 74, 75, 76, 77, 78, 79, 80, 81, 82, 83, 84, 85, 86, 87, 88, 89, 90, 91, 92, 93, 94, 95, 96, 97, 98, 99, ...]\n",
            "\n",
            "[40158 rows x 0 columns]\n",
            "explained variance ratios           0\n",
            "0  0.387493\n",
            "1  0.326894\n",
            "2  0.096428\n",
            "3  0.046476\n",
            "4  0.038712\n",
            "5  0.023765\n",
            "6  0.014679\n",
            "7  0.012519\n",
            "8  0.010102\n",
            "9  0.009391\n",
            "Total Explained Variance:  0.9664583336073285\n",
            "2.5818s run-time for Feature Generation\n"
          ]
        },
        {
          "output_type": "display_data",
          "data": {
            "image/png": "[encoded data removed]",
            "text/plain": [
              "<Figure size 432x288 with 1 Axes>"
            ]
          },
          "metadata": {
            "needs_background": "light"
          }
        },
        {
          "output_type": "stream",
          "name": "stdout",
          "text": [
            "(97044, 10)\n",
            "(40158, 10)\n",
            "(97044, 10)\n",
            "(40158, 10)\n",
            "Gen_Feat_Train :  (97044, 10)\n",
            "Gen_Feat_Train :  (97044, 10)\n",
            "Index(['0_PCA', '1_PCA', '2_PCA', '3_PCA', '4_PCA', '5_PCA', '6_PCA', '7_PCA',\n",
            "       '8_PCA', '9_PCA'],\n",
            "      dtype='object')\n"
          ]
        }
      ]
    },
    {
      "cell_type": "code",
      "source": [
        "print(Feature_List)\n",
        "print(Gen_Feat_Train)\n",
        "print(Gen_Feat_Test)\n",
        "print(x_train.iloc[:,0:152])\n",
        "print(x_test.iloc[:,0:152])"
      ],
      "metadata": {
        "colab": {
          "base_uri": "https://localhost:8080/"
        },
        "id": "VX5nBZ74bbvH",
        "outputId": "9d3d73a0-d532-45b8-ae03-a6967a5a366f"
      },
      "execution_count": null,
      "outputs": [
        {
          "output_type": "stream",
          "name": "stdout",
          "text": [
            "Index(['0_PCA', '1_PCA', '2_PCA', '3_PCA', '4_PCA', '5_PCA', '6_PCA', '7_PCA',\n",
            "       '8_PCA', '9_PCA'],\n",
            "      dtype='object')\n",
            "          0_PCA     1_PCA     2_PCA  ...     7_PCA     8_PCA     9_PCA\n",
            "0      0.550640  0.566594  0.146304  ...  0.430744  0.337058  0.335958\n",
            "1      0.456212  0.892802  0.001978  ...  0.507697  0.373927  0.404328\n",
            "2      0.055976  0.934653  0.810121  ...  0.536603  0.182348  0.245703\n",
            "3      0.030435  0.964118  0.912767  ...  0.483752  0.338431  0.967214\n",
            "4      0.056380  0.934481  0.809766  ...  0.538018  0.180630  0.240669\n",
            "...         ...       ...       ...  ...       ...       ...       ...\n",
            "97039  0.044924  0.920679  0.806402  ...  0.543398  0.191552  0.191462\n",
            "97040  0.044963  0.920678  0.806308  ...  0.543292  0.191534  0.191410\n",
            "97041  0.044931  0.920714  0.806492  ...  0.543276  0.191486  0.191404\n",
            "97042  0.044995  0.920681  0.806242  ...  0.543193  0.191512  0.191361\n",
            "97043  0.045003  0.920689  0.806250  ...  0.543147  0.191493  0.191339\n",
            "\n",
            "[97044 rows x 10 columns]\n",
            "          0_PCA     1_PCA     2_PCA  ...     7_PCA     8_PCA     9_PCA\n",
            "0      0.938715  0.575307  0.492109  ...  0.426495  0.340379  0.328170\n",
            "1      0.932452  0.581994  0.487397  ...  0.526210  0.335725  0.334012\n",
            "2      0.946963  0.566976  0.501031  ...  0.426635  0.345576  0.340390\n",
            "3      0.451505  0.883253  0.006535  ...  0.507087  0.379563  0.353748\n",
            "4      0.963886  0.573182  0.485927  ...  0.552377  0.410038  0.409967\n",
            "...         ...       ...       ...  ...       ...       ...       ...\n",
            "40153  0.375551  0.177282  0.364309  ...  0.469582  0.326575  0.307416\n",
            "40154  0.381921  0.170737  0.369563  ...  0.415956  0.329869  0.305264\n",
            "40155  0.381723  0.170943  0.369394  ...  0.417687  0.329740  0.305262\n",
            "40156  0.381470  0.170381  0.369677  ...  0.418555  0.331011  0.304634\n",
            "40157  0.381678  0.170169  0.369807  ...  0.416817  0.331147  0.304632\n",
            "\n",
            "[40158 rows x 10 columns]\n",
            "       1  2  3         5         6         8  ...  149  150  151  152  153  154\n",
            "0      0  0  0  0.000066  0.000066  0.009150  ...    0    0    0    0    0  0.0\n",
            "1      0  0  0  0.000014  0.000014  0.000000  ...    0    0    0    0    0  0.0\n",
            "2      0  0  0  0.035528  0.035528  0.070588  ...    0    0    0    0    0  0.0\n",
            "3      0  0  0  0.005128  0.005128  0.094771  ...    0    0    0    0    0  0.0\n",
            "4      0  0  0  0.035116  0.035116  0.070588  ...    0    0    0    0    0  0.0\n",
            "...   .. .. ..       ...       ...       ...  ...  ...  ...  ...  ...  ...  ...\n",
            "97039  0  0  0  0.035953  0.035953  0.038562  ...    0    0    0    0    0  0.0\n",
            "97040  0  0  0  0.018075  0.018075  0.038562  ...    0    0    0    0    0  0.0\n",
            "97041  0  0  0  0.041889  0.041889  0.038562  ...    0    0    0    0    0  0.0\n",
            "97042  0  0  0  0.004191  0.004191  0.038562  ...    0    0    0    0    0  0.0\n",
            "97043  0  0  0  0.002892  0.002892  0.038562  ...    0    0    0    0    0  0.0\n",
            "\n",
            "[97044 rows x 152 columns]\n",
            "       1  2  3         5         6         8  ...  149  150  151  152  153       154\n",
            "0      0  0  0  0.002547  0.002547  0.988240  ...    0    0    0    0    0  0.986740\n",
            "1      0  0  0  0.003296  0.003296  0.988240  ...    0    0    0    0    0  0.986740\n",
            "2      0  0  0  0.003285  0.003285  0.988240  ...    0    0    0    0    0  0.986740\n",
            "3      0  0  0  0.005942  0.005942  0.000000  ...    0    0    0    0    0  0.000000\n",
            "4      0  0  0  0.001519  0.001519  0.988240  ...    0    0    0    0    0  0.986740\n",
            "...   .. .. ..       ...       ...       ...  ...  ...  ...  ...  ...  ...       ...\n",
            "40153  0  0  0  0.001682  0.001682  0.016993  ...    0    0    0    0    0  0.002652\n",
            "40154  0  0  0  0.002361  0.002361  0.016993  ...    0    0    0    0    0  0.002652\n",
            "40155  0  0  0  0.002971  0.002971  0.016993  ...    0    0    0    0    0  0.002652\n",
            "40156  0  0  0  0.009523  0.009523  0.016993  ...    0    0    0    0    0  0.002652\n",
            "40157  0  0  0  0.003311  0.003311  0.016993  ...    0    0    0    0    0  0.002652\n",
            "\n",
            "[40158 rows x 152 columns]\n"
          ]
        }
      ]
    },
    {
      "cell_type": "markdown",
      "source": [
        "# 11) **UMAP** for Feature Generation"
      ],
      "metadata": {
        "id": "z4tIppnUipO3"
      }
    },
    {
      "cell_type": "code",
      "source": [
        "import umap\n",
        "\n",
        "import time\n",
        "start = time.time()\n",
        "\n",
        "umap_op = umap.UMAP(\n",
        "              n_neighbors=10, #  controls how UMAP balances local versus global structure in the data. default = 15\n",
        "              min_dist=0.1, # controls how tightly UMAP is allowed to pack points together. default = 0.1\n",
        "              n_components=1, # embedded space dimensions. can use it for more than just visualisation in 2- or 3-dimensions\n",
        "              metric='euclidean' # controls how distance is computed in the ambient space. default = 'euclidean'\n",
        "              )\n",
        "\n",
        "\n",
        "latent_vector_train = umap_op.fit_transform(x_train.np)\n",
        "latent_vector_test = umap_op.transform(x_test.np)\n",
        "\n",
        "print(latent_vector_train.shape)\n",
        "print(latent_vector_test.shape)\n",
        "\n",
        "\n",
        "# # Fit the scaler to the features and transform\n",
        "from sklearn.preprocessing import MinMaxScaler\n",
        "MM_Scaler = MinMaxScaler(feature_range=(0, 1))\n",
        "latent_vector_train = MM_Scaler.fit_transform(latent_vector_train)\n",
        "latent_vector_test = MM_Scaler.transform(latent_vector_test)\n",
        "\n",
        "\n",
        "# put back into pandas and add suffix\n",
        "latent_vector_train = pd.DataFrame(latent_vector_train).add_suffix('_UMAP')\n",
        "latent_vector_test = pd.DataFrame(latent_vector_test).add_suffix('_UMAP')\n",
        "\n",
        "\n",
        "# Join the generaed features onto the features dataframe\n",
        "Gen_Feat_Train = pd.concat([Gen_Feat_Train,latent_vector_train], axis=1, join=\"inner\")\n",
        "Gen_Feat_Test = pd.concat([Gen_Feat_Test,latent_vector_test], axis=1, join=\"inner\")\n",
        "\n",
        "end = time.time()\n",
        "runtime_Feat_Select = str(round(end-start , 4))+'s run-time for Feature Generation'\n",
        "print(runtime_Feat_Select)\n",
        "\n",
        "#set feature list to include all features of Gen_Feat_Train\n",
        "Feature_List = Gen_Feat_Train.columns.values\n",
        "\n",
        "'''\n",
        "- n_neighbors -\n",
        "This parameter controls how UMAP balances local versus global structure in the data. It does this by constraining \n",
        "the size of the local neighborhood UMAP will look at when attempting to learn the manifold structure of the data. \n",
        "This means that low values of n_neighbors will force UMAP to concentrate on very local structure (potentially to \n",
        "the detriment of the big picture), while large values will push UMAP to look at larger neighborhoods of each point \n",
        "when estimating the manifold structure of the data, losing fine detail structure for the sake of getting the broader \n",
        "of the data.\n",
        "\n",
        "We can see that in practice by fitting our dataset with UMAP using a range of n_neighbors values. The default value \n",
        "of n_neighbors for UMAP (as used above) is 15, but we will look at values ranging from 2 (a very local view of the \n",
        "manifold) up to 200 (a quarter of the data).\n",
        "\n",
        "\n",
        "- min_dist -\n",
        "The min_dist parameter controls how tightly UMAP is allowed to pack points together. It, quite literally, provides \n",
        "the minimum distance apart that points are allowed to be in the low dimensional representation. This means that low \n",
        "values of min_dist will result in clumpier embeddings. This can be useful if you are interested in clustering, or in \n",
        "finer topological structure. Larger values of min_dist will prevent UMAP from packing points together and will focus \n",
        "on the preservation of the broad topological structure instead.\n",
        "\n",
        "The default value for min_dist (as used above) is 0.1. We will look at a range of values from 0.0 through to 0.99.\n",
        "\n",
        "\n",
        "- n_components -\n",
        "As is standard for many scikit-learn dimension reduction algorithms UMAP provides a n_components parameter option \n",
        "that allows the user to determine the dimensionality of the reduced dimension space we will be embedding the data \n",
        "into. Unlike some other visualisation algorithms such as t-SNE, UMAP scales well in the embedding dimension, so you \n",
        "can use it for more than just visualisation in 2- or 3-dimensions.\n",
        "\n",
        "\n",
        "- metric -\n",
        "The final UMAP parameter we will be considering in this notebook is the metric parameter. This controls how distance is computed in the ambient space of the input data. By default UMAP supports a wide variety of metrics, including:\n",
        "\n",
        "Minkowski style metrics:\n",
        "euclidean\n",
        "manhattan\n",
        "chebyshev\n",
        "minkowski\n",
        "\n",
        "Miscellaneous spatial metrics:\n",
        "canberra\n",
        "braycurtis\n",
        "haversine\n",
        "\n",
        "Normalized spatial metrics:\n",
        "mahalanobis\n",
        "wminkowski\n",
        "seuclidean\n",
        "\n",
        "Angular and correlation metrics:\n",
        "cosine\n",
        "correlation\n",
        "'''"
      ],
      "metadata": {
        "id": "k0tJbN_qiwfS",
        "colab": {
          "base_uri": "https://localhost:8080/"
        },
        "outputId": "e2db378d-8d41-4fe8-eae0-f40a9c80a151"
      },
      "execution_count": null,
      "outputs": [
        {
          "output_type": "stream",
          "name": "stdout",
          "text": [
            "(97044, 1)\n",
            "(40158, 1)\n",
            "228.656s run-time for Feature Generation\n"
          ]
        },
        {
          "output_type": "execute_result",
          "data": {
            "application/vnd.google.colaboratory.intrinsic+json": {
              "type": "string"
            },
            "text/plain": [
              "'\\n- n_neighbors -\\nThis parameter controls how UMAP balances local versus global structure in the data. It does this by constraining \\nthe size of the local neighborhood UMAP will look at when attempting to learn the manifold structure of the data. \\nThis means that low values of n_neighbors will force UMAP to concentrate on very local structure (potentially to \\nthe detriment of the big picture), while large values will push UMAP to look at larger neighborhoods of each point \\nwhen estimating the manifold structure of the data, losing fine detail structure for the sake of getting the broader \\nof the data.\\n\\nWe can see that in practice by fitting our dataset with UMAP using a range of n_neighbors values. The default value \\nof n_neighbors for UMAP (as used above) is 15, but we will look at values ranging from 2 (a very local view of the \\nmanifold) up to 200 (a quarter of the data).\\n\\n\\n- min_dist -\\nThe min_dist parameter controls how tightly UMAP is allowed to pack points together. It, quite literally, provides \\nthe minimum distance apart that points are allowed to be in the low dimensional representation. This means that low \\nvalues of min_dist will result in clumpier embeddings. This can be useful if you are interested in clustering, or in \\nfiner topological structure. Larger values of min_dist will prevent UMAP from packing points together and will focus \\non the preservation of the broad topological structure instead.\\n\\nThe default value for min_dist (as used above) is 0.1. We will look at a range of values from 0.0 through to 0.99.\\n\\n\\n- n_components -\\nAs is standard for many scikit-learn dimension reduction algorithms UMAP provides a n_components parameter option \\nthat allows the user to determine the dimensionality of the reduced dimension space we will be embedding the data \\ninto. Unlike some other visualisation algorithms such as t-SNE, UMAP scales well in the embedding dimension, so you \\ncan use it for more than just visualisation in 2- or 3-dimensions.\\n\\n\\n- metric -\\nThe final UMAP parameter we will be considering in this notebook is the metric parameter. This controls how distance is computed in the ambient space of the input data. By default UMAP supports a wide variety of metrics, including:\\n\\nMinkowski style metrics:\\neuclidean\\nmanhattan\\nchebyshev\\nminkowski\\n\\nMiscellaneous spatial metrics:\\ncanberra\\nbraycurtis\\nhaversine\\n\\nNormalized spatial metrics:\\nmahalanobis\\nwminkowski\\nseuclidean\\n\\nAngular and correlation metrics:\\ncosine\\ncorrelation\\n'"
            ]
          },
          "metadata": {},
          "execution_count": 839
        }
      ]
    },
    {
      "cell_type": "code",
      "source": [
        "# print(latent_vector_train)\n",
        "# print(latent_vector_test)\n",
        "\n",
        "# n_components = 3\n",
        "# title = 'UMAP Embedded Space - Train'\n",
        "\n",
        "# fig = plt.figure()\n",
        "# if n_components == 1:\n",
        "#     ax = fig.add_subplot(111)\n",
        "#     ax.scatter(latent_vector_train[:,0], range(len(latent_vector_train)), c=y_train.np)\n",
        "# if n_components == 2:\n",
        "#     ax = fig.add_subplot(111)\n",
        "#     ax.scatter(latent_vector_train[:,0], latent_vector_train[:,1], c=y_train.np)\n",
        "# if n_components == 3:\n",
        "#     ax = fig.add_subplot(111, projection='3d')\n",
        "#     ax.scatter(latent_vector_train[:,0], latent_vector_train[:,1], latent_vector_train[:,2], c=y_train.np, s=100)\n",
        "# plt.title(title, fontsize=18)"
      ],
      "metadata": {
        "id": "Ho0PvE4xjI2n"
      },
      "execution_count": null,
      "outputs": []
    },
    {
      "cell_type": "markdown",
      "source": [
        "# 12) **PHATE** for Feature Generation"
      ],
      "metadata": {
        "id": "f9y__-eTmdBm"
      }
    },
    {
      "cell_type": "code",
      "source": [
        "import phate\n",
        "\n",
        "import time\n",
        "start = time.time()\n",
        "\n",
        "PHATE_model = phate.PHATE(n_components=3,\n",
        "                       knn=5,\n",
        "                       decay=40,\n",
        "                       n_landmark=2000,\n",
        "                       t=120,\n",
        "                       gamma = 0,\n",
        "                       n_pca = 10,\n",
        "                       mds_solver='sgd', # sgd is faster\n",
        "                       knn_dist = 'euclidean',\n",
        "                       knn_max = None,\n",
        "                       mds='metric',\n",
        "                       n_jobs=1,\n",
        "                       random_state=seed,\n",
        "                       verbose=1,\n",
        "                       )\n",
        "\n",
        "# fit the model to the training set\n",
        "latent_vector_train = PHATE_model.fit_transform(x_train.np)\n",
        "latent_vector_test = PHATE_model.transform(x_test.np)\n",
        "\n",
        "\n",
        "\n",
        "'''\n",
        "    PHATE operator which performs dimensionality reduction.\n",
        "        Potential of Heat-diffusion for Affinity-based Trajectory Embedding\n",
        "        (PHATE) embeds high dimensional single-cell data into two or three\n",
        "        dimensions for visualization of biological progressions as described\n",
        "        in Moon et al, 2017 [1]_.\n",
        "        Parameters\n",
        "        ----------\n",
        "        n_components : int, optional, default: 2\n",
        "            number of dimensions in which the data will be embedded\n",
        "        knn : int, optional, default: 5\n",
        "            number of nearest neighbors on which to build kernel\n",
        "        decay : int, optional, default: 40\n",
        "            sets decay rate of kernel tails.\n",
        "            If None, alpha decaying kernel is not used\n",
        "        n_landmark : int, optional, default: 2000\n",
        "            number of landmarks to use in fast PHATE\n",
        "        t : int, optional, default: 'auto'\n",
        "            power to which the diffusion operator is powered.\n",
        "            This sets the level of diffusion. If 'auto', t is selected\n",
        "            according to the knee point in the Von Neumann Entropy of\n",
        "            the diffusion operator\n",
        "        gamma : float, optional, default: 1\n",
        "            Informational distance constant between -1 and 1.\n",
        "            `gamma=1` gives the PHATE log potential, `gamma=0` gives\n",
        "            a square root potential.\n",
        "        n_pca : int, optional, default: 100\n",
        "            Number of principal components to use for calculating\n",
        "            neighborhoods. For extremely large datasets, using\n",
        "            n_pca < 20 allows neighborhoods to be calculated in\n",
        "            roughly log(n_samples) time.\n",
        "        mds_solver : {'sgd', 'smacof'}, optional (default: 'sgd')\n",
        "            which solver to use for metric MDS. SGD is substantially faster,\n",
        "            but produces slightly less optimal results. Note that SMACOF was used\n",
        "            for all figures in the PHATE paper.\n",
        "        knn_dist : string, optional, default: 'euclidean'\n",
        "            recommended values: 'euclidean', 'cosine', 'precomputed'\n",
        "            Any metric from `scipy.spatial.distance` can be used\n",
        "            distance metric for building kNN graph. Custom distance\n",
        "            functions of form `f(x, y) = d` are also accepted. If 'precomputed',\n",
        "            `data` should be an n_samples x n_samples distance or\n",
        "            affinity matrix. Distance matrices are assumed to have zeros\n",
        "            down the diagonal, while affinity matrices are assumed to have\n",
        "            non-zero values down the diagonal. This is detected automatically using\n",
        "            `data[0,0]`. You can override this detection with\n",
        "            `knn_dist='precomputed_distance'` or `knn_dist='precomputed_affinity'`.\n",
        "        knn_max : int, optional, default: None\n",
        "            Maximum number of neighbors for which alpha decaying kernel\n",
        "            is computed for each point. For very large datasets, setting `knn_max`\n",
        "            to a small multiple of `knn` can speed up computation significantly.\n",
        "        mds_dist : string, optional, default: 'euclidean'\n",
        "            Distance metric for MDS. Recommended values: 'euclidean' and 'cosine'\n",
        "            Any metric from `scipy.spatial.distance` can be used. Custom distance\n",
        "            functions of form `f(x, y) = d` are also accepted\n",
        "        mds : string, optional, default: 'metric'\n",
        "            choose from ['classic', 'metric', 'nonmetric'].\n",
        "            Selects which MDS algorithm is used for dimensionality reduction\n",
        "        n_jobs : integer, optional, default: 1\n",
        "            The number of jobs to use for the computation.\n",
        "            If -1 all CPUs are used. If 1 is given, no parallel computing code is\n",
        "            used at all, which is useful for debugging.\n",
        "            For n_jobs below -1, (n_cpus + 1 + n_jobs) are used. Thus for\n",
        "            n_jobs = -2, all CPUs but one are used\n",
        "        random_state : integer or numpy.RandomState, optional, default: None\n",
        "            The generator used to initialize SMACOF (metric, nonmetric) MDS\n",
        "            If an integer is given, it fixes the seed\n",
        "            Defaults to the global `numpy` random number generator\n",
        "        verbose : `int` or `boolean`, optional (default: 1)\n",
        "            If `True` or `> 0`, print status messages\n",
        "        potential_method : deprecated.\n",
        "            Use `gamma=1` for log transformation and `gamma=0` for square root\n",
        "            transformation.\n",
        "        alpha_decay : deprecated.\n",
        "            Use `decay=None` to disable alpha decay\n",
        "        njobs : deprecated.\n",
        "            Use n_jobs to match `sklearn` standards\n",
        "        k : Deprecated for `knn`\n",
        "        a : Deprecated for `decay`\n",
        "        kwargs : additional arguments for `graphtools.Graph`\n",
        "        Attributes\n",
        "        ----------\n",
        "        X : array-like, shape=[n_samples, n_dimensions]\n",
        "        embedding : array-like, shape=[n_samples, n_components]\n",
        "            Stores the position of the dataset in the embedding space\n",
        "        graph : graphtools.base.BaseGraph\n",
        "            The graph built on the input data\n",
        "        optimal_t : int\n",
        "            The automatically selected t, when t = 'auto'.\n",
        "            When t is given, optimal_t is None.\n",
        "        Examples\n",
        "        --------\n",
        "'''\n"
      ],
      "metadata": {
        "colab": {
          "base_uri": "https://localhost:8080/"
        },
        "id": "Gu9vE0almcIO",
        "outputId": "c4870a55-b26f-433f-f4e9-ef2d7b7e1013"
      },
      "execution_count": null,
      "outputs": [
        {
          "output_type": "stream",
          "name": "stdout",
          "text": [
            "Calculating PHATE...\n",
            "  Running PHATE on 97044 observations and 152 variables.\n",
            "  Calculating graph and diffusion operator...\n",
            "    Calculating PCA...\n",
            "    Calculated PCA in 2.66 seconds.\n",
            "    Calculating KNN search...\n",
            "    Calculated KNN search in 13.04 seconds.\n",
            "    Calculating affinities...\n",
            "    Calculated affinities in 1.08 seconds.\n",
            "  Calculated graph and diffusion operator in 16.89 seconds.\n",
            "  Calculating landmark operator...\n",
            "    Calculating SVD...\n",
            "    Calculated SVD in 19.44 seconds.\n",
            "    Calculating KMeans...\n",
            "    Calculated KMeans in 39.66 seconds.\n",
            "  Calculated landmark operator in 63.46 seconds.\n",
            "  Calculating diffusion potential...\n",
            "  Calculated diffusion potential in 4.55 seconds.\n",
            "  Calculating metric MDS...\n",
            "  Calculated metric MDS in 389.86 seconds.\n",
            "Calculated PHATE in 474.80 seconds.\n",
            "Calculating KNN search...\n",
            "Calculated KNN search in 4.87 seconds.\n",
            "Calculating affinities...\n",
            "Calculated affinities in 4.01 seconds.\n"
          ]
        },
        {
          "output_type": "execute_result",
          "data": {
            "application/vnd.google.colaboratory.intrinsic+json": {
              "type": "string"
            },
            "text/plain": [
              "\"\\n    PHATE operator which performs dimensionality reduction.\\n        Potential of Heat-diffusion for Affinity-based Trajectory Embedding\\n        (PHATE) embeds high dimensional single-cell data into two or three\\n        dimensions for visualization of biological progressions as described\\n        in Moon et al, 2017 [1]_.\\n        Parameters\\n        ----------\\n        n_components : int, optional, default: 2\\n            number of dimensions in which the data will be embedded\\n        knn : int, optional, default: 5\\n            number of nearest neighbors on which to build kernel\\n        decay : int, optional, default: 40\\n            sets decay rate of kernel tails.\\n            If None, alpha decaying kernel is not used\\n        n_landmark : int, optional, default: 2000\\n            number of landmarks to use in fast PHATE\\n        t : int, optional, default: 'auto'\\n            power to which the diffusion operator is powered.\\n            This sets the level of diffusion. If 'auto', t is selected\\n            according to the knee point in the Von Neumann Entropy of\\n            the diffusion operator\\n        gamma : float, optional, default: 1\\n            Informational distance constant between -1 and 1.\\n            `gamma=1` gives the PHATE log potential, `gamma=0` gives\\n            a square root potential.\\n        n_pca : int, optional, default: 100\\n            Number of principal components to use for calculating\\n            neighborhoods. For extremely large datasets, using\\n            n_pca < 20 allows neighborhoods to be calculated in\\n            roughly log(n_samples) time.\\n        mds_solver : {'sgd', 'smacof'}, optional (default: 'sgd')\\n            which solver to use for metric MDS. SGD is substantially faster,\\n            but produces slightly less optimal results. Note that SMACOF was used\\n            for all figures in the PHATE paper.\\n        knn_dist : string, optional, default: 'euclidean'\\n            recommended values: 'euclidean', 'cosine', 'precomputed'\\n            Any metric from `scipy.spatial.distance` can be used\\n            distance metric for building kNN graph. Custom distance\\n            functions of form `f(x, y) = d` are also accepted. If 'precomputed',\\n            `data` should be an n_samples x n_samples distance or\\n            affinity matrix. Distance matrices are assumed to have zeros\\n            down the diagonal, while affinity matrices are assumed to have\\n            non-zero values down the diagonal. This is detected automatically using\\n            `data[0,0]`. You can override this detection with\\n            `knn_dist='precomputed_distance'` or `knn_dist='precomputed_affinity'`.\\n        knn_max : int, optional, default: None\\n            Maximum number of neighbors for which alpha decaying kernel\\n            is computed for each point. For very large datasets, setting `knn_max`\\n            to a small multiple of `knn` can speed up computation significantly.\\n        mds_dist : string, optional, default: 'euclidean'\\n            Distance metric for MDS. Recommended values: 'euclidean' and 'cosine'\\n            Any metric from `scipy.spatial.distance` can be used. Custom distance\\n            functions of form `f(x, y) = d` are also accepted\\n        mds : string, optional, default: 'metric'\\n            choose from ['classic', 'metric', 'nonmetric'].\\n            Selects which MDS algorithm is used for dimensionality reduction\\n        n_jobs : integer, optional, default: 1\\n            The number of jobs to use for the computation.\\n            If -1 all CPUs are used. If 1 is given, no parallel computing code is\\n            used at all, which is useful for debugging.\\n            For n_jobs below -1, (n_cpus + 1 + n_jobs) are used. Thus for\\n            n_jobs = -2, all CPUs but one are used\\n        random_state : integer or numpy.RandomState, optional, default: None\\n            The generator used to initialize SMACOF (metric, nonmetric) MDS\\n            If an integer is given, it fixes the seed\\n            Defaults to the global `numpy` random number generator\\n        verbose : `int` or `boolean`, optional (default: 1)\\n            If `True` or `> 0`, print status messages\\n        potential_method : deprecated.\\n            Use `gamma=1` for log transformation and `gamma=0` for square root\\n            transformation.\\n        alpha_decay : deprecated.\\n            Use `decay=None` to disable alpha decay\\n        njobs : deprecated.\\n            Use n_jobs to match `sklearn` standards\\n        k : Deprecated for `knn`\\n        a : Deprecated for `decay`\\n        kwargs : additional arguments for `graphtools.Graph`\\n        Attributes\\n        ----------\\n        X : array-like, shape=[n_samples, n_dimensions]\\n        embedding : array-like, shape=[n_samples, n_components]\\n            Stores the position of the dataset in the embedding space\\n        graph : graphtools.base.BaseGraph\\n            The graph built on the input data\\n        optimal_t : int\\n            The automatically selected t, when t = 'auto'.\\n            When t is given, optimal_t is None.\\n        Examples\\n        --------\\n\""
            ]
          },
          "metadata": {},
          "execution_count": 849
        }
      ]
    },
    {
      "cell_type": "code",
      "source": [
        "print(latent_vector_train.shape)\n",
        "print(latent_vector_test.shape)\n",
        "\n",
        "# # # Fit the scaler to the features and transform\n",
        "# from sklearn.preprocessing import MinMaxScaler\n",
        "# MM_Scaler = MinMaxScaler(feature_range=(0, 1))\n",
        "# latent_vector_train = MM_Scaler.fit_transform(latent_vector_train)\n",
        "# latent_vector_test = MM_Scaler.transform(latent_vector_test)\n",
        "\n",
        "# put back into pandas and add suffix\n",
        "latent_vector_train = pd.DataFrame(latent_vector_train).add_suffix('_PHATE')\n",
        "latent_vector_test = pd.DataFrame(latent_vector_test).add_suffix('_PHATE')\n",
        "\n",
        "# # output explained variance for new features\n",
        "# print('explained variance ratios', pd.DataFrame(pca.explained_variance_ratio_))\n",
        "# print('Total Explained Variance: ',pca.explained_variance_ratio_.sum())\n",
        "\n",
        "# Join the generaed features onto the features dataframe\n",
        "Gen_Feat_Train = pd.concat([Gen_Feat_Train,latent_vector_train], axis=1, join=\"inner\")\n",
        "Gen_Feat_Test = pd.concat([Gen_Feat_Test,latent_vector_test], axis=1, join=\"inner\")\n",
        "\n",
        "\n",
        "end = time.time()\n",
        "runtime_Feat_Select = str(round(end-start , 4))+'s run-time for Feature Generation'\n",
        "print(runtime_Feat_Select)\n",
        "\n",
        "#set feature list to include all features of Gen_Feat_Train\n",
        "Feature_List = Gen_Feat_Train.columns.values"
      ],
      "metadata": {
        "id": "DhV8spGwY00J",
        "colab": {
          "base_uri": "https://localhost:8080/"
        },
        "outputId": "248c3cf7-ae61-4757-ee1f-8734df9a26b8"
      },
      "execution_count": null,
      "outputs": [
        {
          "output_type": "stream",
          "name": "stdout",
          "text": [
            "(97044, 3)\n",
            "(40158, 3)\n",
            "491.6325s run-time for Feature Generation\n"
          ]
        }
      ]
    },
    {
      "cell_type": "code",
      "source": [
        "# Gen_Feat_Train.to_csv('PHATE_Train.csv’) # relative position\n",
        "# Gen_Feat_Test.to_csv('PHATE_Test.csv’) # relative position"
      ],
      "metadata": {
        "id": "QFLpy74n861U"
      },
      "execution_count": null,
      "outputs": []
    },
    {
      "cell_type": "markdown",
      "source": [
        "# 13) **Spectral Embedding** for Feature Generation"
      ],
      "metadata": {
        "id": "ATvy9lHihzFg"
      }
    },
    {
      "cell_type": "code",
      "source": [
        "from sklearn.manifold import SpectralEmbedding\n",
        "\n",
        "import time\n",
        "start = time.time()\n",
        "\n",
        "SE_model = SpectralEmbedding(n_components=2)\n",
        "\n",
        "# fit the model to the training set\n",
        "latent_vector_train = SE_model.fit_transform(x_train.np)\n",
        "latent_vector_test = SE_model.transform(x_test.np)"
      ],
      "metadata": {
        "id": "WlMsqMIkh3v_"
      },
      "execution_count": null,
      "outputs": []
    },
    {
      "cell_type": "code",
      "source": [
        "print(latent_vector_train.shape)\n",
        "print(latent_vector_test.shape)\n",
        "\n",
        "# # # Fit the scaler to the features and transform\n",
        "# from sklearn.preprocessing import MinMaxScaler\n",
        "# MM_Scaler = MinMaxScaler(feature_range=(0, 1))\n",
        "# latent_vector_train = MM_Scaler.fit_transform(latent_vector_train)\n",
        "# latent_vector_test = MM_Scaler.transform(latent_vector_test)\n",
        "\n",
        "# put back into pandas and add suffix\n",
        "latent_vector_train = pd.DataFrame(latent_vector_train).add_suffix('_SE')\n",
        "latent_vector_test = pd.DataFrame(latent_vector_test).add_suffix('_SE')\n",
        "\n",
        "# # output explained variance for new features\n",
        "# print('explained variance ratios', pd.DataFrame(pca.explained_variance_ratio_))\n",
        "# print('Total Explained Variance: ',pca.explained_variance_ratio_.sum())\n",
        "\n",
        "# Join the generaed features onto the features dataframe\n",
        "Gen_Feat_Train = pd.concat([Gen_Feat_Train,latent_vector_train], axis=1, join=\"inner\")\n",
        "Gen_Feat_Test = pd.concat([Gen_Feat_Test,latent_vector_test], axis=1, join=\"inner\")\n",
        "\n",
        "end = time.time()\n",
        "runtime_Feat_Select = str(round(end-start , 4))+'s run-time for Feature Generation'\n",
        "print(runtime_Feat_Select)\n",
        "\n",
        "#set feature list to include all features of Gen_Feat_Train\n",
        "Feature_List = Gen_Feat_Train.columns.values"
      ],
      "metadata": {
        "id": "pXH2byObj8Y8"
      },
      "execution_count": null,
      "outputs": []
    },
    {
      "cell_type": "markdown",
      "source": [
        "# 14) **LocallyLinearEmbedding** for Feature Generation"
      ],
      "metadata": {
        "id": "yBpm6VTjkZcV"
      }
    },
    {
      "cell_type": "code",
      "source": [
        "from sklearn.manifold import LocallyLinearEmbedding\n",
        "\n",
        "import time\n",
        "start = time.time()\n",
        "\n",
        "LLE_model = LocallyLinearEmbedding(n_components=2, eigen_solver='dense')\n",
        "\n",
        "# fit the model to the training set\n",
        "latent_vector_train = LLE_model.fit_transform(x_train.np)\n",
        "latent_vector_test = LLE_model.transform(x_test.np)"
      ],
      "metadata": {
        "id": "Vt5AswHPkYzv"
      },
      "execution_count": null,
      "outputs": []
    },
    {
      "cell_type": "code",
      "source": [
        "print(latent_vector_train.shape)\n",
        "print(latent_vector_test.shape)\n",
        "\n",
        "# # # Fit the scaler to the features and transform\n",
        "# from sklearn.preprocessing import MinMaxScaler\n",
        "# MM_Scaler = MinMaxScaler(feature_range=(0, 1))\n",
        "# latent_vector_train = MM_Scaler.fit_transform(latent_vector_train)\n",
        "# latent_vector_test = MM_Scaler.transform(latent_vector_test)\n",
        "\n",
        "# put back into pandas and add suffix\n",
        "latent_vector_train = pd.DataFrame(latent_vector_train).add_suffix('_LLE')\n",
        "latent_vector_test = pd.DataFrame(latent_vector_test).add_suffix('_LLE')\n",
        "\n",
        "# # output explained variance for new features\n",
        "# print('explained variance ratios', pd.DataFrame(pca.explained_variance_ratio_))\n",
        "# print('Total Explained Variance: ',pca.explained_variance_ratio_.sum())\n",
        "\n",
        "# Join the generaed features onto the features dataframe\n",
        "Gen_Feat_Train = pd.concat([Gen_Feat_Train,latent_vector_train], axis=1, join=\"inner\")\n",
        "Gen_Feat_Test = pd.concat([Gen_Feat_Test,latent_vector_test], axis=1, join=\"inner\")\n",
        "\n",
        "end = time.time()\n",
        "runtime_Feat_Select = str(round(end-start , 4))+'s run-time for Feature Generation'\n",
        "print(runtime_Feat_Select)\n",
        "\n",
        "#set feature list to include all features of Gen_Feat_Train\n",
        "Feature_List = Gen_Feat_Train.columns.values"
      ],
      "metadata": {
        "id": "u9kLLKGwksDh"
      },
      "execution_count": null,
      "outputs": []
    },
    {
      "cell_type": "markdown",
      "source": [
        "# 15) **Factor Analysis** for Feature Generation"
      ],
      "metadata": {
        "id": "v2refSgqoFtG"
      }
    },
    {
      "cell_type": "code",
      "source": [
        "from sklearn.decomposition import FactorAnalysis\n",
        "import time\n",
        "start = time.time()\n",
        "\n",
        "FA_model = FactorAnalysis(n_components=10, random_state=0)\n",
        "\n",
        "latent_vector_train = FA_model.fit_transform(x_train.np)\n",
        "latent_vector_test = FA_model.transform(x_test.np)"
      ],
      "metadata": {
        "id": "gAIyX_HooKcp"
      },
      "execution_count": null,
      "outputs": []
    },
    {
      "cell_type": "code",
      "source": [
        "print(latent_vector_train.shape)\n",
        "print(latent_vector_test.shape)\n",
        "\n",
        "# # # Fit the scaler to the features and transform\n",
        "# from sklearn.preprocessing import MinMaxScaler\n",
        "# MM_Scaler = MinMaxScaler(feature_range=(0, 1))\n",
        "# latent_vector_train = MM_Scaler.fit_transform(latent_vector_train)\n",
        "# latent_vector_test = MM_Scaler.transform(latent_vector_test)\n",
        "\n",
        "# put back into pandas and add suffix\n",
        "latent_vector_train = pd.DataFrame(latent_vector_train).add_suffix('_FA')\n",
        "latent_vector_test = pd.DataFrame(latent_vector_test).add_suffix('_FA')\n",
        "\n",
        "# # output explained variance for new features\n",
        "# print('explained variance ratios', pd.DataFrame(pca.explained_variance_ratio_))\n",
        "# print('Total Explained Variance: ',pca.explained_variance_ratio_.sum())\n",
        "\n",
        "# Join the generaed features onto the features dataframe\n",
        "Gen_Feat_Train = pd.concat([Gen_Feat_Train,latent_vector_train], axis=1, join=\"inner\")\n",
        "Gen_Feat_Test = pd.concat([Gen_Feat_Test,latent_vector_test], axis=1, join=\"inner\")\n",
        "\n",
        "end = time.time()\n",
        "runtime_Feat_Select = str(round(end-start , 4))+'s run-time for Feature Generation'\n",
        "print(runtime_Feat_Select)\n",
        "\n",
        "#set feature list to include all features of Gen_Feat_Train\n",
        "Feature_List = Gen_Feat_Train.columns.values"
      ],
      "metadata": {
        "colab": {
          "base_uri": "https://localhost:8080/"
        },
        "id": "qdzMvNASoZej",
        "outputId": "146a49bd-697c-4ede-e0d9-bd063bae6077"
      },
      "execution_count": null,
      "outputs": [
        {
          "output_type": "stream",
          "name": "stdout",
          "text": [
            "(97044, 10)\n",
            "(40158, 10)\n",
            "59.3238s run-time for Feature Generation\n"
          ]
        }
      ]
    },
    {
      "cell_type": "code",
      "source": [
        "# # Import libraries\n",
        "# from mpl_toolkits import mplot3d\n",
        "# import numpy as np\n",
        "# import matplotlib.pyplot as plt\n",
        " \n",
        "\n",
        "# x = Gen_Feat_Train[:0])\n",
        "# print(x)\n",
        "\n",
        "\n",
        "# # Creating figure\n",
        "# fig = plt.figure(figsize = (10, 7))\n",
        "# ax = plt.axes(projection =\"3d\")\n",
        " \n",
        "# # Creating plot\n",
        "# ax.scatter3D(x, y, z, color = \"green\")\n",
        "# plt.title(\"simple 3D scatter plot\")\n",
        " \n",
        "# # show plot\n",
        "# plt.show()"
      ],
      "metadata": {
        "id": "hmgK-cNHpcnd"
      },
      "execution_count": null,
      "outputs": []
    },
    {
      "cell_type": "markdown",
      "source": [
        "# 16) **LDA** for Feature Generation"
      ],
      "metadata": {
        "id": "C8MER06PBago"
      }
    },
    {
      "cell_type": "code",
      "source": [
        "from sklearn.discriminant_analysis import LinearDiscriminantAnalysis\n",
        "\n",
        "import time\n",
        "start = time.time()\n",
        "\n",
        "# define model\n",
        "LDA_model = LinearDiscriminantAnalysis(solver='lsqr') \n",
        "\n",
        "# fit the model to the training set\n",
        "LDA_model = LinearDiscriminantAnalysis(n_components=1)\n",
        "latent_vector_train = LDA_model.fit_transform(x_train.np, y_train.np)\n",
        "\n",
        "\n",
        "# Generate Feature using the LDA model on the Test Set\n",
        "latent_vector_test = LDA_model.transform(x_test.np)\n",
        "\n",
        "\n",
        "# # Fit the scaler to the features and transform\n",
        "from sklearn.preprocessing import MinMaxScaler\n",
        "MM_Scaler = MinMaxScaler(feature_range=(0, 1))\n",
        "latent_vector_train = MM_Scaler.fit_transform(latent_vector_train)\n",
        "latent_vector_test = MM_Scaler.transform(latent_vector_test)\n",
        "\n",
        "\n",
        "# put back into pandas and add suffix\n",
        "latent_vector_train = pd.DataFrame(latent_vector_train).add_suffix('_LDA')\n",
        "latent_vector_test = pd.DataFrame(latent_vector_test).add_suffix('_LDA')\n",
        "\n",
        "\n",
        "# # output explained variance for new features\n",
        "# print('explained variance ratios', pd.DataFrame(pca.explained_variance_ratio_))\n",
        "# print('Total Explained Variance: ',pca.explained_variance_ratio_.sum())\n",
        "\n",
        "\n",
        "# Join the generaed features onto the features dataframe\n",
        "Gen_Feat_Train = pd.concat([Gen_Feat_Train,latent_vector_train], axis=1, join=\"inner\")\n",
        "Gen_Feat_Test = pd.concat([Gen_Feat_Test,latent_vector_test], axis=1, join=\"inner\")\n",
        "\n",
        "\n",
        "#set feature list to include all features of Gen_Feat_Train\n",
        "Feature_List = Gen_Feat_Train.columns.values\n",
        "\n",
        "end = time.time()\n",
        "runtime_Feat_Select = str(round(end-start , 4))+'s run-time for Feature Selection'\n",
        "print(runtime_Feat_Select)\n",
        "\n",
        "print(latent_vector_train.shape)\n",
        "print(latent_vector_test.shape)"
      ],
      "metadata": {
        "colab": {
          "base_uri": "https://localhost:8080/"
        },
        "id": "SoH-Kc_yRX-K",
        "outputId": "0254720a-72e4-466d-8fd9-209e0f57269e"
      },
      "execution_count": null,
      "outputs": [
        {
          "output_type": "stream",
          "name": "stdout",
          "text": [
            "3.5597s run-time for Feature Selection\n",
            "(97044, 1)\n",
            "(40158, 1)\n"
          ]
        }
      ]
    },
    {
      "cell_type": "markdown",
      "source": [
        "# 17) **Concatinate** the generated features onto the original dataset"
      ],
      "metadata": {
        "id": "IAPz7EABcTkf"
      }
    },
    {
      "cell_type": "code",
      "source": [
        "# print(Feature_List)\n",
        "# print(Gen_Feat_Train)\n",
        "# print(Gen_Feat_Test)\n",
        "# print(x_train.iloc[:,0:152])\n",
        "# print(x_test.iloc[:,0:152])\n",
        "\n",
        "\n",
        "\n",
        "# join the generated features onto the original dataset\n",
        "Gen_Feat_Train = pd.concat([Gen_Feat_Train,x_train.iloc[:,0:152]], axis=1, join=\"inner\")\n",
        "Gen_Feat_Test = pd.concat([Gen_Feat_Test,x_test.iloc[:,0:152]], axis=1, join=\"inner\")\n",
        "\n",
        "\n",
        "\n",
        "# check we have the expected number of dimensions\n",
        "print(Gen_Feat_Train.columns)\n",
        "print(Gen_Feat_Test.columns)\n",
        "print(Gen_Feat_Train.shape)\n",
        "print(Gen_Feat_Test.shape)"
      ],
      "metadata": {
        "colab": {
          "base_uri": "https://localhost:8080/"
        },
        "id": "xEg86gW9cTId",
        "outputId": "5ec5bbbf-7ecd-4e28-f452-22ad7857654d"
      },
      "execution_count": null,
      "outputs": [
        {
          "output_type": "stream",
          "name": "stdout",
          "text": [
            "Index(['0_PCA', '1_PCA', '2_PCA', '3_PCA', '4_PCA', '5_PCA', '6_PCA', '7_PCA',\n",
            "       '8_PCA', '9_PCA',\n",
            "       ...\n",
            "       '145', '146', '147', '148', '149', '150', '151', '152', '153', '154'],\n",
            "      dtype='object', length=162)\n",
            "Index(['0_PCA', '1_PCA', '2_PCA', '3_PCA', '4_PCA', '5_PCA', '6_PCA', '7_PCA',\n",
            "       '8_PCA', '9_PCA',\n",
            "       ...\n",
            "       '145', '146', '147', '148', '149', '150', '151', '152', '153', '154'],\n",
            "      dtype='object', length=162)\n",
            "(97044, 162)\n",
            "(40158, 162)\n"
          ]
        }
      ]
    },
    {
      "cell_type": "code",
      "source": [
        "# for feat in range(len(fit.ranking_)):\n",
        "#   if fit.ranking_[feat] == 0:\n",
        "#     Feature_List.append(Gen_Feat_Train.columns[feat])   \n",
        "# print(Feature_List)\n",
        "Feature_List = Gen_Feat_Train.columns\n",
        "print(Feature_List)"
      ],
      "metadata": {
        "colab": {
          "base_uri": "https://localhost:8080/"
        },
        "id": "zO6qRP_Y0K87",
        "outputId": "087b4b39-a2c1-4458-9ed1-f6650399fcb2"
      },
      "execution_count": null,
      "outputs": [
        {
          "output_type": "stream",
          "name": "stdout",
          "text": [
            "Index(['0_PCA', '1_PCA', '2_PCA', '3_PCA', '4_PCA', '5_PCA', '6_PCA', '7_PCA',\n",
            "       '8_PCA', '9_PCA',\n",
            "       ...\n",
            "       '145', '146', '147', '148', '149', '150', '151', '152', '153', '154'],\n",
            "      dtype='object', length=162)\n"
          ]
        }
      ]
    },
    {
      "cell_type": "code",
      "source": [
        "# # join the generated features onto the original dataset\n",
        "# X_best_Original = ['9', '47', '67', '78', '79', '82', '94', '107', '122', '141']\n",
        "# Gen_Feat_Train = pd.concat([Gen_Feat_Train,x_train[X_best_Original]], axis=1, join=\"inner\")\n",
        "# Gen_Feat_Test = pd.concat([Gen_Feat_Test,x_test[X_best_Original]], axis=1, join=\"inner\")\n",
        "\n",
        "# # check we have the expected number of dimensions\n",
        "# print(Gen_Feat_Train.shape)\n",
        "# print(Gen_Feat_Test.shape)\n",
        "\n",
        "# # for feat in range(len(fit.ranking_)):\n",
        "# #   if fit.ranking_[feat] == 0:\n",
        "# #     Feature_List.append(Gen_Feat_Train.columns[feat])   \n",
        "# # print(Feature_List)\n",
        "# Feature_List = Gen_Feat_Train.columns.values\n",
        "# print(Feature_List)"
      ],
      "metadata": {
        "id": "-nPGMD3ANrEn"
      },
      "execution_count": null,
      "outputs": []
    },
    {
      "cell_type": "markdown",
      "source": [
        "# 18) **Drop Features** by Name (delete from generated features dataframe)"
      ],
      "metadata": {
        "id": "s3dtjPuXxjh-"
      }
    },
    {
      "cell_type": "code",
      "source": [
        "print(Gen_Feat_Train.columns.values)"
      ],
      "metadata": {
        "id": "ebYG-aZQx7uY",
        "colab": {
          "base_uri": "https://localhost:8080/"
        },
        "outputId": "5cb8e026-709b-4c60-da54-73399846f567"
      },
      "execution_count": null,
      "outputs": [
        {
          "output_type": "stream",
          "name": "stdout",
          "text": [
            "['0_PCA' '1_PCA' '2_PCA' '3_PCA' '4_PCA' '5_PCA' '6_PCA' '7_PCA' '8_PCA'\n",
            " '9_PCA' '1' '2' '3' '5' '6' '8' '9' '10' '11' '12' '13' '14' '15' '16'\n",
            " '17' '18' '19' '20' '21' '22' '23' '24' '25' '26' '27' '28' '29' '30'\n",
            " '31' '32' '33' '34' '35' '36' '37' '38' '39' '40' '41' '42' '43' '44'\n",
            " '45' '46' '47' '48' '49' '50' '51' '52' '53' '54' '55' '56' '57' '58'\n",
            " '59' '60' '61' '62' '63' '64' '65' '66' '67' '68' '69' '70' '71' '72'\n",
            " '73' '74' '75' '76' '77' '78' '79' '80' '81' '82' '83' '84' '85' '86'\n",
            " '87' '88' '89' '90' '91' '92' '93' '94' '95' '96' '97' '98' '99' '100'\n",
            " '101' '102' '103' '104' '105' '106' '107' '108' '109' '110' '111' '112'\n",
            " '113' '114' '115' '116' '117' '118' '119' '120' '121' '122' '123' '124'\n",
            " '125' '126' '127' '128' '129' '130' '131' '132' '133' '134' '135' '136'\n",
            " '137' '138' '139' '140' '141' '142' '143' '144' '145' '146' '147' '148'\n",
            " '149' '150' '151' '152' '153' '154']\n"
          ]
        }
      ]
    },
    {
      "cell_type": "code",
      "source": [
        "# Remove features using the drop_columms list\n",
        "\n",
        "# drop all original features\n",
        "# drop_columms = x_train.iloc[:,0:152]\n",
        "\n",
        "# drop_columms = ['5', '8', '14', '38', '47', '48',\n",
        "#        '50', '51', '61', '64', '66', '67', '68', '70', '71', '72', '73', '75',\n",
        "#        '76', '77', '78', '79', '80', '82', '83', '84', '86', '88', '90', '93',\n",
        "#        '94', '97', '98', '104', '105', '106', '107', '108', '109', '110',\n",
        "#        '111', '112', '113', '117', '118', '119', '120', '121', '122', '123',\n",
        "#        '125', '126', '127', '128', '138', '140', '141', '142', '143', '144',\n",
        "#        '145', '154', '47', '67', '78', '79', '82', '94', '107', '122', '141']\n",
        "\n",
        "\n",
        "# Remove the Useless features that are empty or have correlation of 1 or -1\n",
        "drop_columms = ['1', '2', '3', '6', '9', '10', '11', '12', '13', '15', '16', '17', '18', '19', '20', '21', '22', '23', '24', '25', '26', '27', '28', '29', '30', '31', '32', '33', '34', '35', '36', '37', '39', '40', '41', '42', '43', '44', '45', '46', '49', '52', '53', '54', '55', '56', '57', '58', '59', '60', '62', '63', '65', '69', '74', '81', '85', '87', '89', '91', '92', '95', '96', '99', '100', '101', '102', '103', '114', '115', '116', '124', '129', '130', '131', '132', '133', '134', '135', '136', '137', '139', '146', '147', '148', '149', '150', '151', '152', '153']\n",
        "\n",
        "\n",
        "# drop_columms = ['5', '8', '14', '38', '47', '48', '50', '51', '61', '64', '66', '67', '68', '70', '71',\n",
        "#  '72', '73', '75', '76', '77', '78', '79', '80', '82', '83', '84', '86', '88', '90',\n",
        "#  '93', '94', '97', '98', '104', '105', '106', '107', '108', '109', '110', '111', '112',\n",
        "#  '113', '117', '118', '119', '120', '121', '122', '123', '125', '126', '127', '128',\n",
        "#  '138', '140', '141', '142', '143', '144', '145', '154']\n",
        "\n",
        "\n",
        "Gen_Feat_Train.drop(drop_columms, axis = 1, inplace = True)\n",
        "Gen_Feat_Test.drop(drop_columms, axis = 1, inplace = True)\n",
        "\n",
        "# print(x_train_stripped.describe())\n",
        "print(Gen_Feat_Train.shape)\n",
        "print(Gen_Feat_Test.shape)\n",
        "\n",
        "Feature_List = Gen_Feat_Train.columns.values"
      ],
      "metadata": {
        "colab": {
          "base_uri": "https://localhost:8080/"
        },
        "id": "I-JhHf9gxxz6",
        "outputId": "58d0631b-a438-428d-d1cb-e539f48bb659"
      },
      "execution_count": null,
      "outputs": [
        {
          "output_type": "stream",
          "name": "stdout",
          "text": [
            "(97044, 72)\n",
            "(40158, 72)\n"
          ]
        }
      ]
    },
    {
      "cell_type": "code",
      "source": [
        "print(drop_columms)\n",
        "print(Gen_Feat_Train.columns)\n",
        "print(Gen_Feat_Train.shape)"
      ],
      "metadata": {
        "colab": {
          "base_uri": "https://localhost:8080/"
        },
        "id": "ldhSzN9foaS5",
        "outputId": "ffa02aef-2e76-4815-ddc9-764fd5aed5be"
      },
      "execution_count": null,
      "outputs": [
        {
          "output_type": "stream",
          "name": "stdout",
          "text": [
            "['1', '2', '3', '6', '9', '10', '11', '12', '13', '15', '16', '17', '18', '19', '20', '21', '22', '23', '24', '25', '26', '27', '28', '29', '30', '31', '32', '33', '34', '35', '36', '37', '39', '40', '41', '42', '43', '44', '45', '46', '49', '52', '53', '54', '55', '56', '57', '58', '59', '60', '62', '63', '65', '69', '74', '81', '85', '87', '89', '91', '92', '95', '96', '99', '100', '101', '102', '103', '114', '115', '116', '124', '129', '130', '131', '132', '133', '134', '135', '136', '137', '139', '146', '147', '148', '149', '150', '151', '152', '153']\n",
            "Index(['0_PCA', '1_PCA', '2_PCA', '3_PCA', '4_PCA', '5_PCA', '6_PCA', '7_PCA',\n",
            "       '8_PCA', '9_PCA', '5', '8', '14', '38', '47', '48', '50', '51', '61',\n",
            "       '64', '66', '67', '68', '70', '71', '72', '73', '75', '76', '77', '78',\n",
            "       '79', '80', '82', '83', '84', '86', '88', '90', '93', '94', '97', '98',\n",
            "       '104', '105', '106', '107', '108', '109', '110', '111', '112', '113',\n",
            "       '117', '118', '119', '120', '121', '122', '123', '125', '126', '127',\n",
            "       '128', '138', '140', '141', '142', '143', '144', '145', '154'],\n",
            "      dtype='object')\n",
            "(97044, 72)\n"
          ]
        }
      ]
    },
    {
      "cell_type": "markdown",
      "source": [
        "# 19) **Summary** of Generated Feature Dataframe"
      ],
      "metadata": {
        "id": "UECxhIwp04D6"
      }
    },
    {
      "cell_type": "code",
      "source": [
        "print(Gen_Feat_Train[Feature_List].columns.values)\n",
        "print(Gen_Feat_Train[Feature_List].shape)\n",
        "print(Gen_Feat_Train[Feature_List].shape)\n",
        "Feature_description = pd.concat([\n",
        "                       Gen_Feat_Train.min(),\n",
        "                       Gen_Feat_Train.max(),\n",
        "                       Gen_Feat_Train.mean(),\n",
        "                       Gen_Feat_Train.std(),\n",
        "                       Gen_Feat_Train.dtypes,\n",
        "                       Gen_Feat_Train.kurtosis(),\n",
        "                       Gen_Feat_Train.skew(),\n",
        "                       Gen_Feat_Train.nunique()\n",
        "                       ], axis=1, join=\"inner\")\n",
        "\n",
        "\n",
        "# pd.set_option('precision', 24)\n",
        "pd.set_option('display.max_columns', 155)\n",
        "pd.set_option('display.max_rows', 155)\n",
        "pd.set_option('display.width', 200)\n",
        "\n",
        "colummn_names = ['min', 'max', 'mean', 'StD', 'dtypes', 'kurtosis', 'skew',  'Unique']\n",
        "Feature_description.set_axis(colummn_names, axis=1, inplace=True)\n",
        "print(Feature_description)\n",
        "\n",
        "# ReSET PANDAS DISPLAY OPTIONS\n",
        "pd.reset_option(\"max_rows\")\n",
        "pd.reset_option(\"max_columns\")\n",
        "pd.reset_option('precision')\n",
        "pd.reset_option('display.width')\n"
      ],
      "metadata": {
        "colab": {
          "base_uri": "https://localhost:8080/"
        },
        "id": "7zzIY1K0kfG4",
        "outputId": "7dd71df4-8cda-40fd-bc76-1352fcaa301d"
      },
      "execution_count": null,
      "outputs": [
        {
          "output_type": "stream",
          "name": "stdout",
          "text": [
            "['0_UMAP' '1_UMAP' '2_UMAP']\n",
            "(97044, 3)\n",
            "(97044, 3)\n",
            "        min  max      mean       StD   dtypes  kurtosis      skew  Unique\n",
            "0_UMAP  0.0  1.0  0.483903  0.218733  float32 -0.939718 -0.018750   96682\n",
            "1_UMAP  0.0  1.0  0.484030  0.209853  float32 -0.758824  0.044186   96644\n",
            "2_UMAP  0.0  1.0  0.480526  0.212699  float32 -0.896409  0.184820   96672\n"
          ]
        }
      ]
    },
    {
      "cell_type": "markdown",
      "source": [
        "# 20) **Reselect** all generated features (undo Feature Selection)"
      ],
      "metadata": {
        "id": "GB1zK1pnT20B"
      }
    },
    {
      "cell_type": "code",
      "source": [
        "# place all feature names from Gen_Feat_Train into Feature_List\n",
        "Feature_List = Gen_Feat_Train.columns.values\n",
        "print(Feature_List.shape)\n",
        "print(Feature_List)\n"
      ],
      "metadata": {
        "colab": {
          "base_uri": "https://localhost:8080/"
        },
        "id": "YmOodvxHT8Wb",
        "outputId": "64315cde-117e-459b-a60c-e6a3224be86f"
      },
      "execution_count": null,
      "outputs": [
        {
          "output_type": "stream",
          "name": "stdout",
          "text": [
            "(77,)\n",
            "['0_SAE' '1_SAE' '2_SAE' '3_SAE' '0_PCA' '1_PCA' '2_PCA' '3_PCA' '4_PCA'\n",
            " '5_PCA' '6_PCA' '7_PCA' '8_PCA' '9_PCA' '0_LDA' '5' '8' '14' '38' '47'\n",
            " '48' '50' '51' '61' '64' '66' '67' '68' '70' '71' '72' '73' '75' '76'\n",
            " '77' '78' '79' '80' '82' '83' '84' '86' '88' '90' '93' '94' '97' '98'\n",
            " '104' '105' '106' '107' '108' '109' '110' '111' '112' '113' '117' '118'\n",
            " '119' '120' '121' '122' '123' '125' '126' '127' '128' '138' '140' '141'\n",
            " '142' '143' '144' '145' '154']\n"
          ]
        }
      ]
    },
    {
      "cell_type": "markdown",
      "source": [
        "# ------FEATURE SELECTION-----------------------------------------------------------------------------------"
      ],
      "metadata": {
        "id": "qS7KULzNwXuA"
      }
    },
    {
      "cell_type": "markdown",
      "source": [
        "# 21) **Feature Selection** by Wrapper Method with **RFE** using LinearSVC / LogisticRegression / LinearDiscriminantAnalysis / RidgeClassifier"
      ],
      "metadata": {
        "id": "XDj5AorGG6lq"
      }
    },
    {
      "cell_type": "code",
      "source": [
        "# Feature Extraction with RFE\n",
        "from pandas import read_csv\n",
        "from sklearn.feature_selection import RFE\n",
        "from sklearn.linear_model import LogisticRegression\n",
        "from sklearn.discriminant_analysis import LinearDiscriminantAnalysis\n",
        "from sklearn.linear_model import RidgeClassifier\n",
        "from sklearn.svm import SVC, LinearSVC\n",
        "\n",
        "import time\n",
        "start = time.time()\n",
        "\n",
        "# feature selection wrapper\n",
        "# model = LinearSVC()\n",
        "# model = LogisticRegression(solver='liblinear', C=1.25)\n",
        "model = LinearDiscriminantAnalysis()\n",
        "# model = RidgeClassifier()\n",
        "\n",
        "\n",
        "rfe = RFE(model, n_features_to_select = 10)\n",
        "fit = rfe.fit(Gen_Feat_Train, y_train.np)\n",
        "\n",
        "print(\"Num Features: %d\" % fit.n_features_)\n",
        "# print(\"Selected Features: %s\" % fit.support_)\n",
        "print(\"Feature Ranking: %s\" % fit.ranking_)"
      ],
      "metadata": {
        "colab": {
          "base_uri": "https://localhost:8080/"
        },
        "id": "ccneF7OpG5fc",
        "outputId": "790549d4-4388-4102-949d-443187d772fb"
      },
      "execution_count": null,
      "outputs": [
        {
          "output_type": "stream",
          "name": "stdout",
          "text": [
            "Num Features: 10\n",
            "Feature Ranking: [15  7 58 21 29 35 27 17 25 52 41  6 45 60 16 20 57 55 50 10 39 40 22 36\n",
            " 53 18 56  2 38 54  1  1 33 49  1 43 51 47 59 26 28 44 34 46 19 31  8  1\n",
            " 37  1 12 24 32 42 48 23 13  1  1 61  9  1  1  1  4 62  3 63 30 14 11  5]\n"
          ]
        }
      ]
    },
    {
      "cell_type": "code",
      "source": [
        "# modify Feature_List to only include selected features\n",
        "Feature_List = []\n",
        "for feat in range(len(fit.ranking_)):\n",
        "  if fit.ranking_[feat] == 1:\n",
        "    Feature_List.append(Gen_Feat_Train.columns[feat]) \n",
        "\n",
        "end = time.time()\n",
        "runtime_Feat_Select = str(round(end-start , 4))+'s run-time for Feature Selection'\n",
        "print(runtime_Feat_Select)\n",
        "\n",
        "print(Feature_List)\n",
        "# print(Gen_Feat_Train[Feature_List].columns)\n",
        "# print(Gen_Feat_Test[Feature_List].columns)\n",
        "\n"
      ],
      "metadata": {
        "colab": {
          "base_uri": "https://localhost:8080/"
        },
        "id": "8GgdQW_4ptr7",
        "outputId": "fad8a767-319f-4f34-8038-567cb228e57d"
      },
      "execution_count": null,
      "outputs": [
        {
          "output_type": "stream",
          "name": "stdout",
          "text": [
            "56.5718s run-time for Feature Selection\n",
            "['78', '79', '83', '108', '110', '121', '122', '126', '127', '128']\n"
          ]
        }
      ]
    },
    {
      "cell_type": "code",
      "source": [
        "print(Feature_List)\n",
        "\n",
        "print(Gen_Feat_Train[Feature_List].columns)\n",
        "print(Gen_Feat_Test[Feature_List].columns)"
      ],
      "metadata": {
        "colab": {
          "base_uri": "https://localhost:8080/"
        },
        "id": "I4GuXkFQXn20",
        "outputId": "7bc4b9b3-4c9b-4dc9-d846-2662a14a2aef"
      },
      "execution_count": null,
      "outputs": [
        {
          "output_type": "stream",
          "name": "stdout",
          "text": [
            "['78', '79', '83', '108', '110', '121', '122', '126', '127', '128']\n",
            "Index(['78', '79', '83', '108', '110', '121', '122', '126', '127', '128'], dtype='object')\n",
            "Index(['78', '79', '83', '108', '110', '121', '122', '126', '127', '128'], dtype='object')\n"
          ]
        }
      ]
    },
    {
      "cell_type": "markdown",
      "source": [
        "# ------CLASSIFICATION----------------------------------------------------------------------------------------------"
      ],
      "metadata": {
        "id": "pQBYKI5NweFd"
      }
    },
    {
      "cell_type": "markdown",
      "source": [
        "# 22) **Compare Classifier Models** (unoptimised)"
      ],
      "metadata": {
        "id": "0rKCeWqE94vy"
      }
    },
    {
      "cell_type": "code",
      "source": [
        "# Compare Algorithms\n",
        "from pandas import read_csv\n",
        "from matplotlib import pyplot\n",
        "from sklearn.model_selection import KFold, StratifiedKFold, cross_val_score, StratifiedShuffleSplit, ShuffleSplit\n",
        "from sklearn.linear_model import LogisticRegression\n",
        "from sklearn.tree import DecisionTreeClassifier\n",
        "from sklearn.ensemble import RandomForestClassifier, AdaBoostClassifier\n",
        "from sklearn.neighbors import KNeighborsClassifier\n",
        "from xgboost import XGBClassifier\n",
        "from sklearn.discriminant_analysis import LinearDiscriminantAnalysis\n",
        "from sklearn.naive_bayes import GaussianNB\n",
        "from sklearn.linear_model import RidgeClassifier\n",
        "from sklearn.neural_network import MLPClassifier\n",
        "from sklearn.svm import SVC, LinearSVC\n",
        "from sklearn.metrics import confusion_matrix\n",
        "from sklearn.metrics import f1_score\n",
        "import time\n",
        "import seaborn as sns\n",
        "import matplotlib.pyplot as plt    \n",
        "\n",
        "\n",
        "# check we have the expected number of dimensions\n",
        "print(Feature_List)\n",
        "print(Gen_Feat_Train[Feature_List].columns.values)\n",
        "print(Gen_Feat_Test[Feature_List].columns.values)\n",
        "\n",
        "# prepare models\n",
        "models = []\n",
        "models.append(('LR  ', LogisticRegression(solver='liblinear', C=1.25)))\n",
        "models.append(('LSVM', LinearSVC()))\n",
        "models.append(('LDA ', LinearDiscriminantAnalysis(solver='lsqr')))\n",
        "models.append(('RC  ', RidgeClassifier()))\n",
        "models.append(('GNB ', GaussianNB()))\n",
        "\n",
        "# models.append(('CART', DecisionTreeClassifier()))\n",
        "# models.append(('KNN ', KNeighborsClassifier()))\n",
        "# models.append(('XGB ', XGBClassifier()))  # too slow :-(\n",
        "# models.append(('ADA ', AdaBoostClassifier()))  # too slow :-(\n",
        "# models.append(('RFC ', RandomForestClassifier()))   # too slow :-(\n",
        "# models.append(('MLP ', MLPClassifier()))            # too slow :-(\n",
        "\n",
        "\n",
        "# evaluate each model in turn\n",
        "results = []\n",
        "results_2 = []\n",
        "fit_time_list = []\n",
        "run_time_list = []\n",
        "names = []\n",
        "scoring = 'accuracy'\n",
        "# scoring = 'f1'\n",
        "\n",
        "\n",
        "for name, model in models:\n",
        "\n",
        "  # find the most appropriate cross validation for the data structure\n",
        "  # split into k folds (ShuffleSplit is most suited to the data)\n",
        "  # kfold = KFold(n_splits=10, random_state=seed,shuffle=True)\n",
        "  # kfold = StratifiedKFold(n_splits=10, shuffle=True, random_state=seed)\n",
        "  # kfold = StratifiedShuffleSplit(n_splits=10, test_size=(40158/97044), random_state=seed) #not needed - dataset is balanced\n",
        "  kfold = ShuffleSplit(n_splits=10, test_size=(40158/97044), random_state=seed)\n",
        "\n",
        "\n",
        "  # fit model to the training set selected features (setting timer)\n",
        "  start = time.time()\n",
        "  model.fit(Gen_Feat_Train[Feature_List], y_train.np) \n",
        "  fit_time = time.time()\n",
        "\n",
        "\n",
        "  # make predictiionis on the test set\n",
        "  predictions = model.predict(Gen_Feat_Test[Feature_List])\n",
        "\n",
        "  # perform cross validation scoriing on the test set transformed features\n",
        "  cv_results = cross_val_score(model, Gen_Feat_Test[Feature_List], y_test.np, cv=kfold, scoring=scoring)\n",
        "  end = time.time()\n",
        "\n",
        "\n",
        "\n",
        "  # add results to lists\n",
        "  results.append(cv_results)\n",
        "  fit_time_list.append(round(fit_time-start, 4))\n",
        "  run_time_list.append(round(end-fit_time, 4))\n",
        "  fittime = str(round(fit_time-start, 4))+'s fit-time'\n",
        "  runtime = str(round(end-fit_time, 4))+'s run-time on test set'\n",
        "\n",
        "  # score the predictions\n",
        "  percentage = round(model.score(Gen_Feat_Test[Feature_List], y_test.np),6) # <<<<<<<<<<<<<<\n",
        "  percentage_str = str(percentage)+'% prediction accuracy'\n",
        "  results_2.append(percentage)\n",
        "  names.append(name)\n",
        "\n",
        "  # make predictiionis on the test set\n",
        "  predictions = model.predict(Gen_Feat_Test[Feature_List])\n",
        "\n",
        "  # create confusion matric\n",
        "  response = confusion_matrix(y_test.np, predictions)\n",
        "  # print(\"Confusion Matrix\")\n",
        "  # print(response)\n",
        "  # print(f\"Test Set: {len(Gen_Feat_Test)}\")\n",
        "  # print('TP    =',response[0][0])\n",
        "  # print('FP    =',response[0][1])\n",
        "  # print('FN    =',response[1][0])\n",
        "  # print('TN    =',response[1][1])\n",
        "  # print(f\"Accuracy  = {percentage*100} %\")\n",
        "  F1 = (2*response[0][0])/((2*response[0][0])+response[0][1]+response[1][0])\n",
        "  # print(f\"F1 score  = {F1*100} %\")\n",
        "  Precision = (response[0][0]/(response[0][0]+response[0][1]))\n",
        "  # print(f\"Precision = {Precision*100} %\")\n",
        "  FAR = (response[0][1]/(response[1][1] + response[0][1]))\n",
        "  # print(f\"FAR score = {FAR*100} %\")\n",
        "  DR = (response[0][0]/(response[0][0] + response[1][0]))\n",
        "  # print(f\"DR score  = {DR*100} %\")\n",
        "\n",
        "\n",
        "  # # print results\n",
        "  # msg = \"%s:  %f CV Score | %f StDv | %s  | %s  | %s\" % (name, cv_results.mean(), cv_results.std(), fittime, runtime, percentage_str) \n",
        "  # print(msg)\n",
        "\n",
        "  # print results\n",
        "  msg = \"%s:  %f CV Score | %f StDv | Accuracy: %f | F1 score: %f | Precision: %f  | FAR score: %f | DR score : %f  | %s  | %s  \" % (name, cv_results.mean(), cv_results.std(), percentage, F1, Precision, FAR,  DR,  fittime, runtime) \n",
        "  print(msg)\n",
        " \n",
        "\n",
        "  # # print comfusion matrix\n",
        "  # ax= plt.subplot()\n",
        "  # sns.heatmap(response, annot=True, fmt='g', ax=ax);  #annot=True to annotate cells, ftm='g' to disable scientific notation\n",
        "  # # labels, title and ticks\n",
        "  # ax.set_xlabel('Predicted labels');ax.set_ylabel('True labels'); \n",
        "  # ax.set_title('Confusion Matrix'); \n",
        "  # ax.xaxis.set_ticklabels(['intrusion', 'normal']); ax.yaxis.set_ticklabels(['intrusion', 'normal']);\n",
        "\n",
        "\n",
        "\n",
        "# boxplot algorithm comparison\n",
        "fig = pyplot.figure()\n",
        "fig.suptitle('Algorithm CV Score Comparison')\n",
        "ax = fig.add_subplot(111)\n",
        "pyplot.boxplot(results)\n",
        "ax.set_xticklabels(names)\n",
        "pyplot.show()\n",
        "\n",
        "# barchart for prediction accuracy\n",
        "plt.bar(names, results_2, color='b')\n",
        "plt.plot()\n",
        "plt.xlabel(\"model\")\n",
        "plt.ylabel(\"Prediction Accuracy\")\n",
        "plt.title(\"Algorithm Prediction Accuracy Comparison\")\n",
        "plt.show()\n",
        "\n",
        "# barchart for model run-time\n",
        "plt.bar(names, run_time_list, color='g')\n",
        "plt.plot()\n",
        "plt.xlabel(\"model\")\n",
        "plt.ylabel(\"Seconds\")\n",
        "plt.title(\"Model Run Time Comparison\")\n",
        "plt.show()\n",
        "\n",
        "# barchart for model fit-time\n",
        "plt.bar(names, fit_time_list, color='r')\n",
        "plt.plot()\n",
        "plt.xlabel(\"model\")\n",
        "plt.ylabel(\"Seconds\")\n",
        "plt.title(\"Model Fit Time Comparison\")\n",
        "plt.show()\n",
        "\n",
        "\n"
      ],
      "metadata": {
        "colab": {
          "base_uri": "https://localhost:8080/",
          "height": 1000
        },
        "id": "6pp6PcEA99uw",
        "outputId": "9376adfc-4a97-4791-8170-316e2f3c7f4e"
      },
      "execution_count": null,
      "outputs": [
        {
          "output_type": "stream",
          "name": "stdout",
          "text": [
            "['0_FA' '1_FA' '2_FA' '3_FA' '4_FA' '5_FA' '6_FA' '7_FA' '8_FA' '9_FA']\n",
            "['0_FA' '1_FA' '2_FA' '3_FA' '4_FA' '5_FA' '6_FA' '7_FA' '8_FA' '9_FA']\n",
            "['0_FA' '1_FA' '2_FA' '3_FA' '4_FA' '5_FA' '6_FA' '7_FA' '8_FA' '9_FA']\n",
            "LR  :  0.988085 CV Score | 0.002063 StDv | Accuracy: 0.461701 | F1 score: 0.612286 | Precision: 0.850092  | FAR score: 0.671575 | DR score : 0.478445  | 1.2587s fit-time  | 1.7591s run-time on test set  \n",
            "LSVM:  0.977242 CV Score | 0.010292 StDv | Accuracy: 0.478560 | F1 score: 0.622784 | Precision: 0.860899  | FAR score: 0.591111 | DR score : 0.487850  | 14.4605s fit-time  | 5.6935s run-time on test set  \n",
            "LDA :  0.949832 CV Score | 0.001364 StDv | Accuracy: 0.797649 | F1 score: 0.804268 | Precision: 0.831466  | FAR score: 0.180760 | DR score : 0.778794  | 0.17s fit-time  | 0.7331s run-time on test set  \n",
            "RC  :  0.942267 CV Score | 0.005195 StDv | Accuracy: 0.797649 | F1 score: 0.804268 | Precision: 0.831466  | FAR score: 0.180760 | DR score : 0.778794  | 0.0638s fit-time  | 0.3758s run-time on test set  \n",
            "GNB :  0.937905 CV Score | 0.001132 StDv | Accuracy: 0.500000 | F1 score: 0.666667 | Precision: 1.000000  | FAR score: nan | DR score : 0.500000  | 0.0434s fit-time  | 0.2746s run-time on test set  \n"
          ]
        },
        {
          "output_type": "display_data",
          "data": {
            "image/png": "[encoded data removed]",
            "text/plain": [
              "<Figure size 432x288 with 1 Axes>"
            ]
          },
          "metadata": {
            "needs_background": "light"
          }
        },
        {
          "output_type": "display_data",
          "data": {
            "image/png": "[encoded data removed]",
            "text/plain": [
              "<Figure size 432x288 with 1 Axes>"
            ]
          },
          "metadata": {
            "needs_background": "light"
          }
        },
        {
          "output_type": "display_data",
          "data": {
            "image/png": "[encoded data removed]",
            "text/plain": [
              "<Figure size 432x288 with 1 Axes>"
            ]
          },
          "metadata": {
            "needs_background": "light"
          }
        },
        {
          "output_type": "display_data",
          "data": {
            "image/png": "[encoded data removed]",
            "text/plain": [
              "<Figure size 432x288 with 1 Axes>"
            ]
          },
          "metadata": {
            "needs_background": "light"
          }
        }
      ]
    },
    {
      "cell_type": "markdown",
      "source": [
        "# ------OPTIMISATION OF CLASSIFIERS------------------------------------------------------------------"
      ],
      "metadata": {
        "id": "icUJAg6hwk29"
      }
    },
    {
      "cell_type": "markdown",
      "source": [
        "# 23) **LinearSVM** Classifier BayesSearchCV Hyperparameter Optimisation \n",
        "\n"
      ],
      "metadata": {
        "id": "v6X_zOZuuh69"
      }
    },
    {
      "cell_type": "code",
      "source": [
        "from skopt import BayesSearchCV\n",
        "from sklearn.model_selection import KFold, ShuffleSplit\n",
        "from sklearn.model_selection import cross_val_score\n",
        "from sklearn.metrics import confusion_matrix\n",
        "from sklearn.metrics import matthews_corrcoef\n",
        "from sklearn.svm import LinearSVC\n",
        "from sklearn.model_selection import train_test_split\n",
        "\n",
        "kfold = ShuffleSplit(n_splits=10, test_size=(40158/97044), random_state=7)\n",
        "\n",
        "\n",
        "opt = BayesSearchCV(\n",
        "    LinearSVC(),\n",
        "    {\n",
        "        'penalty': ['l1','l2'],  # categorical parameter\n",
        "        'loss': ['squared_hinge','hinge'],  # categorical parameter\n",
        "        'C': (1e-6, 1e+6, 'log-uniform'),\n",
        "        'tol': (1e-4, 1e+1, 'log-uniform'),\n",
        "    },\n",
        "    n_iter=32,\n",
        "    cv=kfold,\n",
        "    scoring = 'f1'\n",
        ")\n",
        "\n",
        "\n",
        "\n",
        "print(Gen_Feat_Train[Feature_List].shape)\n",
        "print(len(y_train.np))\n",
        "\n",
        "opt.fit(Gen_Feat_Train[Feature_List], y_train.np)\n",
        "\n",
        "print(\"val. score: %s\" % opt.best_score_)\n",
        "print(\"test score: %s\" % opt.score(Gen_Feat_Test[Feature_List], y_test))\n",
        "print(\"test Parameters: %s\" % opt.best_params_)\n",
        "\n",
        "\n",
        "'''\n",
        "penalty {‘l1’, ‘l2’}, default=’l2’\n",
        "        Specifies the norm used in the penalization. The ‘l2’ penalty is the standard used in SVC. The ‘l1’ leads to coef_ vectors that are sparse.\n",
        "\n",
        "loss  {‘hinge’, ‘squared_hinge’}, default=’squared_hinge’\n",
        "        Specifies the loss function. ‘hinge’ is the standard SVM loss (used e.g. by the SVC class) while ‘squared_hinge’ is the square of the hinge loss. The combination of penalty='l1' and loss='hinge' is not supported.\n",
        "\n",
        "dual    bool, default=True\n",
        "      Select the algorithm to either solve the dual or primal optimization problem. Prefer dual=False when n_samples > n_features.\n",
        "\n",
        "tol   float, default=1e-4\n",
        "      Tolerance for stopping criteria.\n",
        "\n",
        "C   float, default=1.0\n",
        "      Regularization parameter. The strength of the regularization is inversely proportional to C. Must be strictly positive.\n",
        "\n",
        "multi_class {‘ovr’, ‘crammer_singer’}, default=’ovr’\n",
        "      Determines the multi-class strategy if y contains more than two classes. \"ovr\" trains n_classes one-vs-rest classifiers, while \"crammer_singer\" optimizes a joint objective over all classes. While crammer_singer is interesting from a theoretical perspective as it is consistent, it is seldom used in practice as it rarely leads to better accuracy and is more expensive to compute. If \"crammer_singer\" is chosen, the options loss, penalty and dual will be ignored.\n",
        "\n",
        "fit_intercept bool, default=True\n",
        "      Whether to calculate the intercept for this model. If set to false, no intercept will be used in calculations (i.e. data is expected to be already centered).\n",
        "\n",
        "intercept_scaling   float, default=1\n",
        "      When self.fit_intercept is True, instance vector x becomes [x, self.intercept_scaling], i.e. a “synthetic” feature with constant value equals to intercept_scaling is appended to the instance vector. The intercept becomes intercept_scaling * synthetic feature weight Note! the synthetic feature weight is subject to l1/l2 regularization as all other features. To lessen the effect of regularization on synthetic feature weight (and therefore on the intercept) intercept_scaling has to be increased.\n",
        "\n",
        "class_weight    dict or ‘balanced’, default=None\n",
        "      Set the parameter C of class i to class_weight[i]*C for SVC. If not given, all classes are supposed to have weight one. The “balanced” mode uses the values of y to automatically adjust weights inversely proportional to class frequencies in the input data as n_samples / (n_classes * np.bincount(y)).\n",
        "\n",
        "verbose int, default=0\n",
        "      Enable verbose output. Note that this setting takes advantage of a per-process runtime setting in liblinear that, if enabled, may not work properly in a multithreaded context.\n",
        "\n",
        "random_state  int, RandomState instance or None, default=None\n",
        "      Controls the pseudo random number generation for shuffling the data for the dual coordinate descent (if dual=True). When dual=False the underlying implementation of LinearSVC is not random and random_state has no effect on the results. Pass an int for reproducible output across multiple function calls. See Glossary.\n",
        "\n",
        "max_iter  int, default=1000\n",
        "      The maximum number of iterations to be run.\n",
        "'''\n",
        "\n"
      ],
      "metadata": {
        "id": "z2d_r-9J5psg",
        "colab": {
          "base_uri": "https://localhost:8080/"
        },
        "outputId": "b650c3fc-289d-4468-c2c6-19f79373a4c8"
      },
      "execution_count": null,
      "outputs": [
        {
          "output_type": "stream",
          "name": "stdout",
          "text": [
            "(97044, 10)\n",
            "97044\n",
            "val. score: 0.9707779342105601\n",
            "test score: 0.9465047742543912\n",
            "test Parameters: OrderedDict([('C', 130.9984139078651), ('loss', 'squared_hinge'), ('tol', 0.3841671161174082)])\n"
          ]
        },
        {
          "output_type": "execute_result",
          "data": {
            "application/vnd.google.colaboratory.intrinsic+json": {
              "type": "string"
            },
            "text/plain": [
              "'\\n\\n'"
            ]
          },
          "metadata": {},
          "execution_count": 656
        }
      ]
    },
    {
      "cell_type": "markdown",
      "source": [
        "# 24) **Logistic Regression** Classifier BayesSearchCV Hyperparameter Optimisation \n"
      ],
      "metadata": {
        "id": "Qh2EQ6Fo8VMq"
      }
    },
    {
      "cell_type": "code",
      "source": [
        "from skopt import BayesSearchCV\n",
        "from sklearn.model_selection import KFold, ShuffleSplit\n",
        "from sklearn.model_selection import cross_val_score\n",
        "from sklearn.metrics import confusion_matrix\n",
        "from sklearn.metrics import matthews_corrcoef\n",
        "from sklearn.linear_model import LogisticRegression\n",
        "from sklearn.svm import SVC\n",
        "from sklearn.model_selection import train_test_split\n",
        "\n",
        "kfold = ShuffleSplit(n_splits=10, test_size=(40158/97044), random_state=7)\n",
        "\n",
        "\n",
        "# log-uniform: understand as search over p = exp(x) by varying x\n",
        "opt = BayesSearchCV(\n",
        "    LogisticRegression(),\n",
        "    {\n",
        "        # 'penalty': ('l1', 'l2', 'elasticnet', None),   # categorical parameter\n",
        "        # 'dual': (True, False),   # categorical Bool parameter        \n",
        "        'C': (0.5, 100, 'log-uniform'), # float\n",
        "        'solver': ('newton-cg', 'lbfgs', 'liblinear', 'sag', 'saga'),   # categorical parameter\n",
        "        # 'fit_intercept': (True, False),   # categorical Bool parameter\n",
        "        # 'class_weight': ('balanced', None),   # categorical parameter\n",
        "        # 'random_state': (1),  # integer valued parameter\n",
        "        # 'max_iter': (100),  # integer valued parameter\n",
        "        # 'multi_class': ('auto', 'ovr', 'multinomial'),   # categorical parameter\n",
        "        # 'warm_start': (True, False),   # categorical Bool parameter\n",
        "        # 'n_jobs': (None),  # integer valued parameter\n",
        "        # 'l1_ratio': (0, 1, 'log-uniform'), # only used for elesticnet\n",
        "    },\n",
        "    n_iter=32,\n",
        "    cv=kfold,\n",
        "    scoring = 'f1'\n",
        ")\n",
        "\n",
        "\n",
        "\n",
        "print(Gen_Feat_Train[Feature_List].shape)\n",
        "print(len(y_train.np))\n",
        "\n",
        "\n",
        "opt.fit(Gen_Feat_Train[Feature_List], y_train.np)\n",
        "\n",
        "print(\"val. score: %s\" % opt.best_score_)\n",
        "# print(\"cv_results: %s\" % opt.cv_results_)\n",
        "print(\"test score: %s\" % opt.score(Gen_Feat_Test[Feature_List], y_test))\n",
        "print(\"test Parameters: %s\" % opt.best_params_)\n",
        "\n",
        "\n",
        "\n",
        "'''\n",
        "penalty {‘l1’, ‘l2’, ‘elasticnet’, ‘none’}, default=’l2’\n",
        "        Specify the norm of the penalty:\n",
        "          'none': no penalty is added;\n",
        "          'l2': add a L2 penalty term and it is the default choice;\n",
        "          'l1': add a L1 penalty term;\n",
        "          'elasticnet': both L1 and L2 penalty terms are added.\n",
        "\n",
        "        Warning Some penalties may not work with some solvers. See the parameter solver below, to know the compatibility between the penalty and solver.\n",
        "        New in version 0.19: l1 penalty with SAGA solver (allowing ‘multinomial’ + L1)\n",
        "\n",
        "dual   bool, default=False\n",
        "        Dual or primal formulation. \n",
        "        Dual formulation is only implemented for l2 penalty with liblinear solver. \n",
        "        Prefer dual=False when n_samples > n_features.\n",
        "\n",
        "tol   float, default=1e-4\n",
        "      Tolerance for stopping criteria.\n",
        "\n",
        "C   float, default=1.0\n",
        "      Inverse of regularization strength; must be a positive float. Like in support vector machines, smaller values specify stronger regularization.\n",
        "\n",
        "fit_intercept   bool, default=True\n",
        "      Specifies if a constant (a.k.a. bias or intercept) should be added to the decision function.\n",
        "\n",
        "intercept_scaling   float, default=1\n",
        "      Useful only when the solver ‘liblinear’ is used and self.fit_intercept is set to True. In this case, x becomes [x, self.intercept_scaling], i.e. a “synthetic” feature with constant value equal to intercept_scaling is appended to the instance vector. The intercept becomes intercept_scaling * synthetic_feature_weight.\n",
        "\n",
        "      Note! the synthetic feature weight is subject to l1/l2 regularization as all other features. \n",
        "      To lessen the effect of regularization on synthetic feature weight (and therefore on the intercept) intercept_scaling has to be increased.\n",
        "\n",
        "class_weight    dict or ‘balanced’, default=None\n",
        "      Weights associated with classes in the form {class_label: weight}. If not given, all classes are supposed to have weight one.\n",
        "      The “balanced” mode uses the values of y to automatically adjust weights inversely proportional to class frequencies in the input data as n_samples / (n_classes * np.bincount(y)).\n",
        "      Note that these weights will be multiplied with sample_weight (passed through the fit method) if sample_weight is specified.\n",
        "      New in version 0.17: class_weight=’balanced’\n",
        "\n",
        "random_state  int, RandomState instance, default=None\n",
        "      Used when solver == ‘sag’, ‘saga’ or ‘liblinear’ to shuffle the data. See Glossary for details.\n",
        "\n",
        "solver  {‘newton-cg’, ‘lbfgs’, ‘liblinear’, ‘sag’, ‘saga’}, default=’lbfgs’\n",
        "      Algorithm to use in the optimization problem. Default is ‘lbfgs’. To choose a solver, you might want to consider the following aspects:\n",
        "      For small datasets, ‘liblinear’ is a good choice, whereas ‘sag’ and ‘saga’ are faster for large ones;\n",
        "      For multiclass problems, only ‘newton-cg’, ‘sag’, ‘saga’ and ‘lbfgs’ handle multinomial loss;\n",
        "      ‘liblinear’ is limited to one-versus-rest schemes.\n",
        "\n",
        "      Warning The choice of the algorithm depends on the penalty chosen: Supported penalties by solver:\n",
        "          ‘newton-cg’ - [‘l2’, ‘none’]\n",
        "          ‘lbfgs’ - [‘l2’, ‘none’]\n",
        "          ‘liblinear’ - [‘l1’, ‘l2’]\n",
        "          ‘sag’ - [‘l2’, ‘none’]\n",
        "          ‘saga’ - [‘elasticnet’, ‘l1’, ‘l2’, ‘none’]\n",
        "\n",
        "      Note ‘sag’ and ‘saga’ fast convergence is only guaranteed on features with approximately the same scale. You can preprocess the data with a scaler from sklearn.preprocessing.\n",
        "      See also Refer to the User Guide for more information regarding LogisticRegression and more specifically the Table summarazing solver/penalty supports. <!– # noqa: E501 –>\n",
        "      New in version 0.17: Stochastic Average Gradient descent solver.\n",
        "\n",
        "      New in version 0.19: SAGA solver.\n",
        "      Changed in version 0.22: The default solver changed from ‘liblinear’ to ‘lbfgs’ in 0.22.\n",
        "\n",
        "max_iter  int, default=100\n",
        "      Maximum number of iterations taken for the solvers to converge.\n",
        "\n",
        "multi_class   {‘auto’, ‘ovr’, ‘multinomial’}, default=’auto’\n",
        "      If the option chosen is ‘ovr’, then a binary problem is fit for each label. For ‘multinomial’ the loss minimised is the multinomial loss fit across the entire probability distribution, even when the data is binary. ‘multinomial’ is unavailable when solver=’liblinear’. ‘auto’ selects ‘ovr’ if the data is binary, or if solver=’liblinear’, and otherwise selects ‘multinomial’.\n",
        "      New in version 0.18: Stochastic Average Gradient descent solver for ‘multinomial’ case.\n",
        "      Changed in version 0.22: Default changed from ‘ovr’ to ‘auto’ in 0.22.\n",
        "\n",
        "verbose   int, default=0\n",
        "    For the liblinear and lbfgs solvers set verbose to any positive number for verbosity.\n",
        "\n",
        "warm_start  bool, default=False\n",
        "    When set to True, reuse the solution of the previous call to fit as initialization, otherwise, just erase the previous solution. Useless for liblinear solver. See the Glossary.\n",
        "    New in version 0.17: warm_start to support lbfgs, newton-cg, sag, saga solvers.\n",
        "\n",
        "n_jobs  int, default=None\n",
        "    Number of CPU cores used when parallelizing over classes if multi_class=’ovr’”. This parameter is ignored when the solver is set to ‘liblinear’ regardless of whether ‘multi_class’ is specified or not. None means 1 unless in a joblib.parallel_backend context. -1 means using all processors. See Glossary for more details.\n",
        "\n",
        "l1_ratio  float, default=None\n",
        "    The Elastic-Net mixing parameter, with 0 <= l1_ratio <= 1. Only used if penalty='elasticnet'. Setting l1_ratio=0 is equivalent to using penalty='l2', while setting l1_ratio=1 is equivalent to using penalty='l1'. For 0 < l1_ratio <1, the penalty is a combination of L1 and L2.\n",
        "'''"
      ],
      "metadata": {
        "colab": {
          "base_uri": "https://localhost:8080/"
        },
        "id": "aCmtDjMQ8Ueu",
        "outputId": "97d3c5d4-9bf2-4c5f-c51f-144fd72acd6b"
      },
      "execution_count": null,
      "outputs": [
        {
          "output_type": "stream",
          "name": "stdout",
          "text": [
            "(97044, 10)\n",
            "97044\n",
            "val. score: 0.9924347273837466\n",
            "test score: 0.9541437385359347\n",
            "test Parameters: OrderedDict([('C', 100), ('solver', 'lbfgs')])\n"
          ]
        },
        {
          "output_type": "execute_result",
          "data": {
            "application/vnd.google.colaboratory.intrinsic+json": {
              "type": "string"
            },
            "text/plain": [
              "\"\\npenalty {‘l1’, ‘l2’, ‘elasticnet’, ‘none’}, default=’l2’\\n        Specify the norm of the penalty:\\n          'none': no penalty is added;\\n          'l2': add a L2 penalty term and it is the default choice;\\n          'l1': add a L1 penalty term;\\n          'elasticnet': both L1 and L2 penalty terms are added.\\n\\n        Warning Some penalties may not work with some solvers. See the parameter solver below, to know the compatibility between the penalty and solver.\\n        New in version 0.19: l1 penalty with SAGA solver (allowing ‘multinomial’ + L1)\\n\\ndual   bool, default=False\\n        Dual or primal formulation. \\n        Dual formulation is only implemented for l2 penalty with liblinear solver. \\n        Prefer dual=False when n_samples > n_features.\\n\\ntol   float, default=1e-4\\n      Tolerance for stopping criteria.\\n\\nC   float, default=1.0\\n      Inverse of regularization strength; must be a positive float. Like in support vector machines, smaller values specify stronger regularization.\\n\\nfit_intercept   bool, default=True\\n      Specifies if a constant (a.k.a. bias or intercept) should be added to the decision function.\\n\\nintercept_scaling   float, default=1\\n      Useful only when the solver ‘liblinear’ is used and self.fit_intercept is set to True. In this case, x becomes [x, self.intercept_scaling], i.e. a “synthetic” feature with constant value equal to intercept_scaling is appended to the instance vector. The intercept becomes intercept_scaling * synthetic_feature_weight.\\n\\n      Note! the synthetic feature weight is subject to l1/l2 regularization as all other features. \\n      To lessen the effect of regularization on synthetic feature weight (and therefore on the intercept) intercept_scaling has to be increased.\\n\\nclass_weight    dict or ‘balanced’, default=None\\n      Weights associated with classes in the form {class_label: weight}. If not given, all classes are supposed to have weight one.\\n      The “balanced” mode uses the values of y to automatically adjust weights inversely proportional to class frequencies in the input data as n_samples / (n_classes * np.bincount(y)).\\n      Note that these weights will be multiplied with sample_weight (passed through the fit method) if sample_weight is specified.\\n      New in version 0.17: class_weight=’balanced’\\n\\nrandom_state  int, RandomState instance, default=None\\n      Used when solver == ‘sag’, ‘saga’ or ‘liblinear’ to shuffle the data. See Glossary for details.\\n\\nsolver  {‘newton-cg’, ‘lbfgs’, ‘liblinear’, ‘sag’, ‘saga’}, default=’lbfgs’\\n      Algorithm to use in the optimization problem. Default is ‘lbfgs’. To choose a solver, you might want to consider the following aspects:\\n      For small datasets, ‘liblinear’ is a good choice, whereas ‘sag’ and ‘saga’ are faster for large ones;\\n      For multiclass problems, only ‘newton-cg’, ‘sag’, ‘saga’ and ‘lbfgs’ handle multinomial loss;\\n      ‘liblinear’ is limited to one-versus-rest schemes.\\n\\n      Warning The choice of the algorithm depends on the penalty chosen: Supported penalties by solver:\\n          ‘newton-cg’ - [‘l2’, ‘none’]\\n          ‘lbfgs’ - [‘l2’, ‘none’]\\n          ‘liblinear’ - [‘l1’, ‘l2’]\\n          ‘sag’ - [‘l2’, ‘none’]\\n          ‘saga’ - [‘elasticnet’, ‘l1’, ‘l2’, ‘none’]\\n\\n      Note ‘sag’ and ‘saga’ fast convergence is only guaranteed on features with approximately the same scale. You can preprocess the data with a scaler from sklearn.preprocessing.\\n      See also Refer to the User Guide for more information regarding LogisticRegression and more specifically the Table summarazing solver/penalty supports. <!– # noqa: E501 –>\\n      New in version 0.17: Stochastic Average Gradient descent solver.\\n\\n      New in version 0.19: SAGA solver.\\n      Changed in version 0.22: The default solver changed from ‘liblinear’ to ‘lbfgs’ in 0.22.\\n\\nmax_iter  int, default=100\\n      Maximum number of iterations taken for the solvers to converge.\\n\\nmulti_class   {‘auto’, ‘ovr’, ‘multinomial’}, default=’auto’\\n      If the option chosen is ‘ovr’, then a binary problem is fit for each label. For ‘multinomial’ the loss minimised is the multinomial loss fit across the entire probability distribution, even when the data is binary. ‘multinomial’ is unavailable when solver=’liblinear’. ‘auto’ selects ‘ovr’ if the data is binary, or if solver=’liblinear’, and otherwise selects ‘multinomial’.\\n      New in version 0.18: Stochastic Average Gradient descent solver for ‘multinomial’ case.\\n      Changed in version 0.22: Default changed from ‘ovr’ to ‘auto’ in 0.22.\\n\\nverbose   int, default=0\\n    For the liblinear and lbfgs solvers set verbose to any positive number for verbosity.\\n\\nwarm_start  bool, default=False\\n    When set to True, reuse the solution of the previous call to fit as initialization, otherwise, just erase the previous solution. Useless for liblinear solver. See the Glossary.\\n    New in version 0.17: warm_start to support lbfgs, newton-cg, sag, saga solvers.\\n\\nn_jobs  int, default=None\\n    Number of CPU cores used when parallelizing over classes if multi_class=’ovr’”. This parameter is ignored when the solver is set to ‘liblinear’ regardless of whether ‘multi_class’ is specified or not. None means 1 unless in a joblib.parallel_backend context. -1 means using all processors. See Glossary for more details.\\n\\nl1_ratio  float, default=None\\n    The Elastic-Net mixing parameter, with 0 <= l1_ratio <= 1. Only used if penalty='elasticnet'. Setting l1_ratio=0 is equivalent to using penalty='l2', while setting l1_ratio=1 is equivalent to using penalty='l1'. For 0 < l1_ratio <1, the penalty is a combination of L1 and L2.\\n\""
            ]
          },
          "metadata": {},
          "execution_count": 824
        }
      ]
    },
    {
      "cell_type": "markdown",
      "source": [
        "# 25) **Logistic Regression** Classifier (optimised)"
      ],
      "metadata": {
        "id": "-OlaTjbqiMdH"
      }
    },
    {
      "cell_type": "code",
      "source": [
        "# Logistic Regression Classification\n",
        "from sklearn.model_selection import KFold, ShuffleSplit\n",
        "from sklearn.model_selection import cross_val_score, cross_val_predict\n",
        "from sklearn.metrics import confusion_matrix\n",
        "from sklearn.metrics import matthews_corrcoef\n",
        "from sklearn.linear_model import LogisticRegression\n",
        "\n",
        "# Gen_Feat_Train\n",
        "# Gen_Feat_Test\n",
        "\n",
        "# create model\n",
        "LogReg_Model = LogisticRegression(solver='liblinear', C=1.25) # Settings found by trial and error\n",
        "# LogReg_Model = LogisticRegression(C = 10, class_weight = 'balanced', fit_intercept = False, solver = 'saga', warm_start = True  ) # Settings From BayesSearchCV Optimisation\n",
        "# LogReg_Model = LogisticRegression(solver='liblinear', C=73) # Settings found by BayesSearchCV Optimisation\n",
        "# LogReg_Model = LogisticRegression(solver='lbfgs', C=100) # Settings found by BayesSearchCV Optimisation\n",
        "\n",
        "\n",
        "\n",
        "# train model on the training set\n",
        "LogReg_Model.fit(Gen_Feat_Train[Feature_List], y_train.np)\n",
        "\n",
        "# make predictiionis on the test set\n",
        "predictions = LogReg_Model.predict(Gen_Feat_Test[Feature_List])\n",
        "\n",
        "# score the predictions\n",
        "percentage = LogReg_Model.score(Gen_Feat_Test[Feature_List], y_test.np)\n",
        "\n",
        "################################################################################\n",
        "# cross validation score\n",
        "num_folds = 10\n",
        "seed = 7\n",
        "scoring = 'f1'\n",
        "kfold = ShuffleSplit(n_splits=10, test_size=(40158/97044), random_state=seed)\n",
        "cv_results = cross_val_score(LogReg_Model, Gen_Feat_Test[Feature_List], y_test.np, cv=kfold, scoring=scoring)\n",
        "print(\"Test Set Cross Validation Accuracy: %.3f%% (StDv: %.3f%%)\" % (cv_results.mean()*100.0, cv_results.std()*100.0))\n",
        "################################################################################\n",
        "\n",
        "\n",
        "\n",
        "# create confusion matric\n",
        "response = confusion_matrix(y_test.np, predictions)\n",
        "print(\"Confusion Matrix\")\n",
        "print(response)\n",
        "print(f\"Test Set: {len(Gen_Feat_Test[Feature_List])}\")\n",
        "print('TP    =',response[0][0])\n",
        "print('FP    =',response[0][1])\n",
        "print('FN    =',response[1][0])\n",
        "print('TN    =',response[1][1])\n",
        "print(f\"Accuracy  = {percentage*100} %\")\n",
        "F1 = (2*response[0][0])/((2*response[0][0])+response[0][1]+response[1][0])\n",
        "print(f\"F1 score  = {F1*100} %\")\n",
        "Precision = (response[0][0]/(response[0][0]+response[0][1]))\n",
        "print(f\"Precision = {Precision*100} %\")\n",
        "FAR = (response[0][1]/(response[1][1] + response[0][1]))\n",
        "print(f\"FAR score = {FAR*100} %\")\n",
        "DR = (response[0][0]/(response[0][0] + response[1][0]))\n",
        "print(f\"DR score  = {DR*100} %\")\n",
        "\n",
        "\n",
        "import seaborn as sns\n",
        "import matplotlib.pyplot as plt     \n",
        "ax= plt.subplot()\n",
        "sns.heatmap(response, annot=True, fmt='g', ax=ax);  #annot=True to annotate cells, ftm='g' to disable scientific notation\n",
        "\n",
        "# labels, title and ticks\n",
        "ax.set_xlabel('Predicted labels');ax.set_ylabel('True labels'); \n",
        "ax.set_title('Confusion Matrix'); \n",
        "ax.xaxis.set_ticklabels(['intrusion', 'normal']); ax.yaxis.set_ticklabels(['intrusion', 'normal']);"
      ],
      "metadata": {
        "colab": {
          "base_uri": "https://localhost:8080/",
          "height": 548
        },
        "id": "AHmnaSaAfoD5",
        "outputId": "1e51b2ad-d936-407f-de23-ae4972312e0d"
      },
      "execution_count": null,
      "outputs": [
        {
          "output_type": "stream",
          "name": "stdout",
          "text": [
            "Test Set Cross Validation Accuracy: 98.328% (StDv: 0.050%)\n",
            "Confusion Matrix\n",
            "[[19934   145]\n",
            " [    6 20073]]\n",
            "Test Set: 40158\n",
            "TP    = 19934\n",
            "FP    = 145\n",
            "FN    = 6\n",
            "TN    = 20073\n",
            "Accuracy  = 99.62398525823 %\n",
            "F1 score  = 99.622679227367 %\n",
            "Precision = 99.27785248269336 %\n",
            "FAR score = 0.7171827084775941 %\n",
            "DR score  = 99.96990972918756 %\n"
          ]
        },
        {
          "output_type": "display_data",
          "data": {
            "image/png": "[encoded data removed]",
            "text/plain": [
              "<Figure size 432x288 with 2 Axes>"
            ]
          },
          "metadata": {
            "needs_background": "light"
          }
        }
      ]
    },
    {
      "cell_type": "markdown",
      "source": [
        "# 26) **LinnearSVM** Classifier (optimised)"
      ],
      "metadata": {
        "id": "2iarAcg8CLIv"
      }
    },
    {
      "cell_type": "code",
      "source": [
        "# Logistic Regression Classification\n",
        "from sklearn.model_selection import KFold, ShuffleSplit\n",
        "from sklearn.model_selection import cross_val_score, cross_val_predict\n",
        "from sklearn.metrics import confusion_matrix\n",
        "from sklearn.metrics import matthews_corrcoef\n",
        "from sklearn.linear_model import LogisticRegression\n",
        "\n",
        "# Gen_Feat_Train\n",
        "# Gen_Feat_Test\n",
        "\n",
        "# create model\n",
        "# LSVM_Model = LinearSVC(C = 130.9984139078651, loss = 'squared_hinge', tol =  0.3841671161174082) # Settings found by BayesSearchCV Optimisationo for lowest Cros Val f1\n",
        "LSVM_Model = LinearSVC() # Settings found by trial and error\n",
        "\n",
        "\n",
        "\n",
        "\n",
        "# train model on the training set\n",
        "LSVM_Model.fit(Gen_Feat_Train[Feature_List], y_train.np)\n",
        "\n",
        "# make predictiionis on the test set\n",
        "predictions = LSVM_Model.predict(Gen_Feat_Test[Feature_List])\n",
        "\n",
        "# score the predictions\n",
        "percentage = LSVM_Model.score(Gen_Feat_Test[Feature_List], y_test.np)\n",
        "\n",
        "################################################################################\n",
        "# cross validation score\n",
        "num_folds = 10\n",
        "seed = 7\n",
        "scoring = 'f1'\n",
        "kfold = ShuffleSplit(n_splits=10, test_size=(40158/97044), random_state=seed)\n",
        "cv_results = cross_val_score(LSVM_Model, Gen_Feat_Test[Feature_List], y_test.np, cv=kfold, scoring=scoring)\n",
        "print(\"Test Set Cross Validation Accuracy: %.3f%% (StDv: %.3f%%)\" % (cv_results.mean()*100.0, cv_results.std()*100.0))\n",
        "################################################################################\n",
        "\n",
        "\n",
        "\n",
        "# create confusion matric\n",
        "response = confusion_matrix(y_test.np, predictions)\n",
        "print(\"Confusion Matrix\")\n",
        "print(response)\n",
        "print(f\"Test Set: {len(Gen_Feat_Test[Feature_List])}\")\n",
        "print('TP    =',response[0][0])\n",
        "print('FP    =',response[0][1])\n",
        "print('FN    =',response[1][0])\n",
        "print('TN    =',response[1][1])\n",
        "print(f\"Accuracy  = {percentage*100} %\")\n",
        "F1 = (2*response[0][0])/((2*response[0][0])+response[0][1]+response[1][0])\n",
        "print(f\"F1 score  = {F1*100} %\")\n",
        "Precision = (response[0][0]/(response[0][0]+response[0][1]))\n",
        "print(f\"Precision = {Precision*100} %\")\n",
        "FAR = (response[0][1]/(response[1][1] + response[0][1]))\n",
        "print(f\"FAR score = {FAR*100} %\")\n",
        "DR = (response[0][0]/(response[0][0] + response[1][0]))\n",
        "print(f\"DR score  = {DR*100} %\")\n",
        "\n",
        "\n",
        "import seaborn as sns\n",
        "import matplotlib.pyplot as plt     \n",
        "ax= plt.subplot()\n",
        "sns.heatmap(response, annot=True, fmt='g', ax=ax);  #annot=True to annotate cells, ftm='g' to disable scientific notation\n",
        "\n",
        "# labels, title and ticks\n",
        "ax.set_xlabel('Predicted labels');ax.set_ylabel('True labels'); \n",
        "ax.set_title('Confusion Matrix'); \n",
        "ax.xaxis.set_ticklabels(['intrusion', 'normal']); ax.yaxis.set_ticklabels(['intrusion', 'normal']);"
      ],
      "metadata": {
        "colab": {
          "base_uri": "https://localhost:8080/",
          "height": 548
        },
        "id": "3If5PyqtCTDI",
        "outputId": "2e0ba267-1599-42fc-8c7d-3accc5ee8c5b"
      },
      "execution_count": null,
      "outputs": [
        {
          "output_type": "stream",
          "name": "stdout",
          "text": [
            "Test Set Cross Validation Accuracy: 99.480% (StDv: 0.039%)\n",
            "Confusion Matrix\n",
            "[[19873   206]\n",
            " [    6 20073]]\n",
            "Test Set: 40158\n",
            "TP    = 19873\n",
            "FP    = 206\n",
            "FN    = 6\n",
            "TN    = 20073\n",
            "Accuracy  = 99.47208526321032 %\n",
            "F1 score  = 99.46944291506081 %\n",
            "Precision = 98.97405249265402 %\n",
            "FAR score = 1.015829182898565 %\n",
            "DR score  = 99.96981739524121 %\n"
          ]
        },
        {
          "output_type": "display_data",
          "data": {
            "image/png": "[encoded data removed]",
            "text/plain": [
              "<Figure size 432x288 with 2 Axes>"
            ]
          },
          "metadata": {
            "needs_background": "light"
          }
        }
      ]
    }
  ]
}